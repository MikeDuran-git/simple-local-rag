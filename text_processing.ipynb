{
 "cells": [
  {
   "cell_type": "markdown",
   "metadata": {},
   "source": [
    "# Libraries"
   ]
  },
  {
   "cell_type": "code",
   "execution_count": 34,
   "metadata": {},
   "outputs": [],
   "source": [
    "import torch\n",
    "import os"
   ]
  },
  {
   "cell_type": "markdown",
   "metadata": {},
   "source": [
    "# check if GPU is accessible"
   ]
  },
  {
   "cell_type": "code",
   "execution_count": 35,
   "metadata": {},
   "outputs": [
    {
     "name": "stdout",
     "output_type": "stream",
     "text": [
      "Using GPU: NVIDIA GeForce RTX 3050 Ti Laptop GPU is available\n"
     ]
    }
   ],
   "source": [
    "#check gpu access\n",
    "if torch.cuda.is_available():\n",
    "    print(\"Using GPU: \"+torch.cuda.get_device_name(0) + \" is available\")\n",
    "else: #we are using cpu\n",
    "    print(\"Using CPU\")"
   ]
  },
  {
   "cell_type": "markdown",
   "metadata": {},
   "source": [
    "# I. Document/Text Processing and Embedding Creation\n",
    "\n",
    "Ingredients:\n",
    "* PDF document of choice.\n",
    "* Embedding model of choice.\n",
    "\n",
    "Steps:\n",
    "1. Import PDF document.\n",
    "2. Process text for embedding (e.g. split into chunks of sentences).\n",
    "3. Embed text chunks with embedding model.\n",
    "4. Save embeddings to file for later use (embeddings will store on file for many years or until you lose your hard drive)."
   ]
  },
  {
   "cell_type": "markdown",
   "metadata": {},
   "source": [
    "## 1. Import PDF document"
   ]
  },
  {
   "cell_type": "code",
   "execution_count": 36,
   "metadata": {},
   "outputs": [
    {
     "name": "stdout",
     "output_type": "stream",
     "text": [
      "File greg_doucette_cookbook_2_0.pdf exists.\n"
     ]
    }
   ],
   "source": [
    "# Get PDF document\n",
    "pdf_path = \"greg_doucette_cookbook_2_0.pdf\"\n",
    "\n",
    "# Download PDF if it doesn't already exist\n",
    "if not os.path.exists(pdf_path):\n",
    "  print(\"File doesn't exist, go to the link in the README to download it.\")\n",
    "else:\n",
    "  print(f\"File {pdf_path} exists.\")"
   ]
  },
  {
   "cell_type": "code",
   "execution_count": 37,
   "metadata": {},
   "outputs": [
    {
     "data": {
      "application/vnd.jupyter.widget-view+json": {
       "model_id": "d4b20850d143475fabf153156c54944f",
       "version_major": 2,
       "version_minor": 0
      },
      "text/plain": [
       "0it [00:00, ?it/s]"
      ]
     },
     "metadata": {},
     "output_type": "display_data"
    }
   ],
   "source": [
    "import fitz # (pymupdf, found this is better than pypdf for our use case, note: licence is AGPL-3.0, keep that in mind if you want to use any code commercially)\n",
    "from tqdm.auto import tqdm # for progress bars, requires !pip install tqdm \n",
    "\n",
    "def text_formatter(text: str) -> str:\n",
    "    \"\"\"Performs minor formatting on text.\"\"\"\n",
    "    cleaned_text = text.replace(\"\\n\", \" \").strip() # note: this might be different for each doc (best to experiment)\n",
    "\n",
    "    # Other potential text formatting functions can go here\n",
    "    return cleaned_text\n",
    "\n",
    "# Open PDF and get lines/pages\n",
    "# Note: this only focuses on text, rather than images/figures etc\n",
    "def open_and_read_pdf(pdf_path: str) -> list[dict]:\n",
    "    \"\"\"\n",
    "    Opens a PDF file, reads its text content page by page, and collects statistics.\n",
    "\n",
    "    Parameters:\n",
    "        pdf_path (str): The file path to the PDF document to be opened and read.\n",
    "\n",
    "    Returns:\n",
    "        list[dict]: A list of dictionaries, each containing the page number\n",
    "        (adjusted), character count, word count, sentence count, token count, and the extracted text\n",
    "        for each page.\n",
    "    \"\"\"\n",
    "    doc = fitz.open(pdf_path)  # open a document\n",
    "    pages_and_texts = []\n",
    "    for page_number, page in tqdm(enumerate(doc)):  # iterate the document pages\n",
    "        text = page.get_text()  # get plain text encoded as UTF-8\n",
    "        text = text_formatter(text)\n",
    "        pages_and_texts.append({\"page_number\": page_number - 41,  # adjust page numbers since our PDF starts on page 42\n",
    "                                \"page_char_count\": len(text),\n",
    "                                \"page_word_count\": len(text.split(\" \")),\n",
    "                                \"page_sentence_count_raw\": len(text.split(\". \")),\n",
    "                                \"page_token_count\": len(text) / 4,  # 1 token = ~4 chars, see: https://help.openai.com/en/articles/4936856-what-are-tokens-and-how-to-count-them\n",
    "                                \"text\": text})\n",
    "    return pages_and_texts\n",
    "\n",
    "pages_and_texts = open_and_read_pdf(pdf_path=pdf_path)"
   ]
  },
  {
   "cell_type": "code",
   "execution_count": 38,
   "metadata": {},
   "outputs": [
    {
     "data": {
      "text/plain": [
       "205"
      ]
     },
     "execution_count": 38,
     "metadata": {},
     "output_type": "execute_result"
    }
   ],
   "source": [
    "len(pages_and_texts)"
   ]
  },
  {
   "cell_type": "markdown",
   "metadata": {},
   "source": [
    "# Data Cleaning"
   ]
  },
  {
   "cell_type": "markdown",
   "metadata": {},
   "source": [
    "we remove all the pages that are not recipes, so we remove all the pages before case 16. and the last 21 pages\n"
   ]
  },
  {
   "cell_type": "code",
   "execution_count": 39,
   "metadata": {},
   "outputs": [],
   "source": [
    "pages_and_texts = pages_and_texts[16:len(pages_and_texts)-21]"
   ]
  },
  {
   "cell_type": "code",
   "execution_count": 40,
   "metadata": {},
   "outputs": [
    {
     "data": {
      "text/plain": [
       "168"
      ]
     },
     "execution_count": 40,
     "metadata": {},
     "output_type": "execute_result"
    }
   ],
   "source": [
    "len(pages_and_texts)"
   ]
  },
  {
   "cell_type": "markdown",
   "metadata": {},
   "source": [
    "We remove the starting title \"www.gregdoucette.com T H E  U L T I M A T E  A N A B O L I C  C O O K B O O K  2 . 0 Back to Table of Contents\" along with all the text that remove before www.\n"
   ]
  },
  {
   "cell_type": "code",
   "execution_count": 41,
   "metadata": {},
   "outputs": [
    {
     "data": {
      "text/plain": [
       "'Title Anabolic Apple Pie Breakfast Bake Directions 1. Pre-heat the oven to 400°F (204°C). 2. Chop the apples into small pieces. 3. In a bowl, whisk egg whites, cinnamon, sweetener, and vanilla. 4. Tear the bread into small pieces and place in a bowl with the egg whites, cinnamon, sweetener, and vanilla. Mix with your hands until the bread pieces are well soaked with the batter. 5. Spray a casserole dish with cooking spray for 1 second. Pour the egg white/bread mixture into the casserole dish. 6. Place the casserole dish uncovered in the middle rack and cook in the oven at 400°F/204°C for 40-50 minutes. P R E P  T I M E R E A D Y  I N 20 MINUTES 1 HOUR Ingredients M A K E S  1  B A T C H .  S E R V I N G  S I Z E  V A R I E S  D E P E N D I N G  O N  H O W  L A R G E  O R  S M A L L  Y O U  C U T  T H E  P I E C E S . 18 slices regular ass bread (or one  loaf [570g] of regular ass bread) 1920g (4 cartons/2000ml) egg  whites 21g (3 tbsp) cinnamon 15g (1 tbsp) vanilla extract 15 packets (⅝ cup) sweetener 1500g or ~10 apples of your choice Cooking spray N U T R I T I O N P E R  S E R V I N G C A L O R I E S F A T  ( G ) C A R B S  ( G ) F I B E R  ( G ) E N T I R E B A T C H 3 2 5 0 1 7 4 4 4 4 6 L A R G E S E R V I N G 5 4 0 3 7 4 8 P R O T E I N  ( G )   2 6 5   4 4 S M A L L S E R V I N G 2 7 0 1 3 7 4 2 2 N O T E :  T H I S  R E C I P E  E I T H E R  M A K E S 6  L A R G E  S E R V I N G S  O R 1 2  S M A L L  S E R V I N G S . D I V I D E  T H E  B A T C H  I N T O  P O R T I O N S  A C C O R D I N G  T O  Y O U R  P R E F E R R E D  S E R V I N G  S I Z E  A N D  D A I L Y  C A L O R I E  R E Q U I R E M E N T S . N O T E :  T H I S  H A S  M O R E  E G G  W H I T E S  A N D  M O R E  F R U I T ,  M A K I N G  I T  H E A L T H I E R  A N D  L E S S  C A L O R I E  D E N S E  T H A N  L A S T  T I M E !  C O A C H  G R E G  L O V E S  T H I S  D I S H  W I T H  G R A N N Y  S M I T H  A P P L E S ,  B U T  Y O U  C A N  U S E  W H I C H E V E R  A P P L E S  Y O U  W A N T .  T H E R E  A R E  N O  R U L E S  I N  T H I S  K I T C H E N ! ! V E G E T A R I A N'"
      ]
     },
     "execution_count": 41,
     "metadata": {},
     "output_type": "execute_result"
    }
   ],
   "source": [
    "# Function to clean the text\n",
    "def clean_text(page):\n",
    "    marker = \"U L T I M A T E  A N A B O L I C  C O O K B O O K  2 . 0 Back to Table of Contents\"\n",
    "    text = page[\"text\"]\n",
    "    if marker in text:\n",
    "        text = text.split(marker, 1)[1]\n",
    "\n",
    "    text.replace(\"\\u00b0F\", \"°F\").replace(\"\\u00b0C\", \"°C\").replace('Anabolic','').replace(\"anabolic\",'').replace('regular ass bread','regular bread')\n",
    "    return 'Title' + text\n",
    "\n",
    "\n",
    "for page in pages_and_texts:\n",
    "    page[\"text\"] = clean_text(page)\n",
    "\n",
    "pages_and_texts[0]['text']"
   ]
  },
  {
   "cell_type": "markdown",
   "metadata": {},
   "source": [
    "We identified that \\u00b0F is Fahrenheit (°F) and \\u00b0C is Celcius (°C) So we replace it. And we know it is only in the direction, because, why would the degree too cook be in the ingredient list ? "
   ]
  },
  {
   "cell_type": "markdown",
   "metadata": {},
   "source": [
    "We remove the \"ass\" in the dataset... because we are good boys."
   ]
  },
  {
   "cell_type": "markdown",
   "metadata": {},
   "source": [
    "In the cookbook, there are notes and links that would not be necessary, as such we will remove it.\n",
    "It starts with \"click to...\", we don't need it, so we remove it."
   ]
  },
  {
   "cell_type": "code",
   "execution_count": null,
   "metadata": {},
   "outputs": [],
   "source": []
  },
  {
   "cell_type": "code",
   "execution_count": null,
   "metadata": {},
   "outputs": [],
   "source": []
  },
  {
   "cell_type": "code",
   "execution_count": 42,
   "metadata": {},
   "outputs": [
    {
     "data": {
      "text/plain": [
       "'Title Anabolic Apple Pie Breakfast Bake Directions 1. Pre-heat the oven to 400°F (204°C). 2. Chop the apples into small pieces. 3. In a bowl, whisk egg whites, cinnamon, sweetener, and vanilla. 4. Tear the bread into small pieces and place in a bowl with the egg whites, cinnamon, sweetener, and vanilla. Mix with your hands until the bread pieces are well soaked with the batter. 5. Spray a casserole dish with cooking spray for 1 second. Pour the egg white/bread mixture into the casserole dish. 6. Place the casserole dish uncovered in the middle rack and cook in the oven at 400°F/204°C for 40-50 minutes. P R E P  T I M E R E A D Y  I N 20 MINUTES 1 HOUR Ingredients M A K E S  1  B A T C H .  S E R V I N G  S I Z E  V A R I E S  D E P E N D I N G  O N  H O W  L A R G E  O R  S M A L L  Y O U  C U T  T H E  P I E C E S . 18 slices regular ass bread (or one  loaf [570g] of regular ass bread) 1920g (4 cartons/2000ml) egg  whites 21g (3 tbsp) cinnamon 15g (1 tbsp) vanilla extract 15 packets (⅝ cup) sweetener 1500g or ~10 apples of your choice Cooking spray N U T R I T I O N P E R  S E R V I N G C A L O R I E S F A T  ( G ) C A R B S  ( G ) F I B E R  ( G ) E N T I R E B A T C H 3 2 5 0 1 7 4 4 4 4 6 L A R G E S E R V I N G 5 4 0 3 7 4 8 P R O T E I N  ( G )   2 6 5   4 4 S M A L L S E R V I N G 2 7 0 1 3 7 4 2 2 N O T E :  T H I S  R E C I P E  E I T H E R  M A K E S 6  L A R G E  S E R V I N G S  O R 1 2  S M A L L  S E R V I N G S . D I V I D E  T H E  B A T C H  I N T O  P O R T I O N S  A C C O R D I N G  T O  Y O U R  P R E F E R R E D  S E R V I N G  S I Z E  A N D  D A I L Y  C A L O R I E  R E Q U I R E M E N T S . N O T E :  T H I S  H A S  M O R E  E G G  W H I T E S  A N D  M O R E  F R U I T ,  M A K I N G  I T  H E A L T H I E R  A N D  L E S S  C A L O R I E  D E N S E  T H A N  L A S T  T I M E !  C O A C H  G R E G  L O V E S  T H I S  D I S H  W I T H  G R A N N Y  S M I T H  A P P L E S ,  B U T  Y O U  C A N  U S E  W H I C H E V E R  A P P L E S  Y O U  W A N T .  T H E R E  A R E  N O  R U L E S  I N  T H I S  K I T C H E N ! ! V E G E T A R I A N'"
      ]
     },
     "execution_count": 42,
     "metadata": {},
     "output_type": "execute_result"
    }
   ],
   "source": [
    "# Input text\n",
    "text = pages_and_texts[0][\"text\"]\n",
    "text"
   ]
  },
  {
   "cell_type": "code",
   "execution_count": 33,
   "metadata": {},
   "outputs": [
    {
     "data": {
      "text/plain": [
       "{'title': 'Anabolic Apple Pie Breakfast Bake',\n",
       " 'directions': '1. Pre-heat the oven to 400°F (204°C). 2. Chop the apples into small pieces. 3. In a bowl, whisk egg whites, cinnamon, sweetener, and vanilla. 4. Tear the bread into small pieces and place in a bowl with the egg whites, cinnamon, sweetener, and vanilla. Mix with your hands until the bread pieces are well soaked with the batter. 5. Spray a casserole dish with cooking spray for 1 second. Pour the egg white/bread mixture into the casserole dish. 6. Place the casserole dish uncovered in the middle rack and cook in the oven at 400°F/204°C for 40-50 minutes.',\n",
       " 'ingredients': 'M A K E S  1  B A T C H .  S E R V I N G  S I Z E  V A R I E S  D E P E N D I N G  O N  H O W  L A R G E  O R  S M A L L  Y O U  C U T  T H E  P I E C E S . 18 slices regular ass bread (or one  loaf [570g] of regular ass bread) 1920g (4 cartons/2000ml) egg  whites 21g (3 tbsp) cinnamon 15g (1 tbsp) vanilla extract 15 packets (⅝ cup) sweetener 1500g or ~10 apples of your choice Cooking spray'}"
      ]
     },
     "execution_count": 33,
     "metadata": {},
     "output_type": "execute_result"
    }
   ],
   "source": [
    "import re\n",
    "import json\n",
    "\n",
    "# Input text\n",
    "text = pages_and_texts[0][\"text\"]\n",
    "\n",
    "# Function to parse the recipe text\n",
    "def parse_recipe(text):\n",
    "    # Extracting the title\n",
    "    title_match = re.search(r'Title(.*?)Directions', text)\n",
    "    title = title_match.group(1).strip() if title_match else \"No Title Found\"\n",
    "    \n",
    "    # Extracting the directions\n",
    "    directions_match = re.search(r'Directions(.*?)P R E P  T I M E', text, re.DOTALL)\n",
    "    directions = directions_match.group(1).strip() if directions_match else \"No Directions Found\"\n",
    "    \n",
    "    # Extracting the ingredients\n",
    "    ingredients_match = re.search(r'Ingredients(.*?)N U T R I T I O N P E R  S E R V I N G', text, re.DOTALL)\n",
    "    ingredients = ingredients_match.group(1).strip() if ingredients_match else \"No Ingredients Found\"\n",
    "    \n",
    "    return {\n",
    "        \"title\": title,\n",
    "        \"directions\": directions,\n",
    "        \"ingredients\": ingredients\n",
    "    }\n",
    "\n",
    "# Parsing the provided text\n",
    "parsed_recipe = parse_recipe(text)\n",
    "\n",
    "# Displaying the parsed recipe\n",
    "parsed_recipe\n"
   ]
  },
  {
   "cell_type": "code",
   "execution_count": null,
   "metadata": {},
   "outputs": [],
   "source": []
  },
  {
   "cell_type": "code",
   "execution_count": null,
   "metadata": {},
   "outputs": [],
   "source": []
  },
  {
   "cell_type": "code",
   "execution_count": null,
   "metadata": {},
   "outputs": [],
   "source": []
  }
 ],
 "metadata": {
  "kernelspec": {
   "display_name": "venv",
   "language": "python",
   "name": "python3"
  },
  "language_info": {
   "codemirror_mode": {
    "name": "ipython",
    "version": 3
   },
   "file_extension": ".py",
   "mimetype": "text/x-python",
   "name": "python",
   "nbconvert_exporter": "python",
   "pygments_lexer": "ipython3",
   "version": "3.12.0"
  }
 },
 "nbformat": 4,
 "nbformat_minor": 2
}
