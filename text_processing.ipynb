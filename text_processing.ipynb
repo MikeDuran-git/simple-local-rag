{
 "cells": [
  {
   "cell_type": "markdown",
   "metadata": {},
   "source": [
    "# Libraries"
   ]
  },
  {
   "cell_type": "code",
   "execution_count": 1,
   "metadata": {},
   "outputs": [],
   "source": [
    "import torch\n",
    "import os\n",
    "import re\n",
    "import fitz # (pymupdf, found this is better than pypdf for our use case, note: licence is AGPL-3.0, keep that in mind if you want to use any code commercially)\n",
    "from tqdm.auto import tqdm # for progress bars, requires !pip install tqdm \n",
    "import pandas as pd\n",
    "from tqdm import tqdm\n",
    "tqdm.pandas()"
   ]
  },
  {
   "cell_type": "markdown",
   "metadata": {},
   "source": [
    "# check if GPU is accessible"
   ]
  },
  {
   "cell_type": "code",
   "execution_count": 2,
   "metadata": {},
   "outputs": [
    {
     "name": "stdout",
     "output_type": "stream",
     "text": [
      "Using GPU: NVIDIA GeForce RTX 2060 is available\n"
     ]
    }
   ],
   "source": [
    "#check gpu access\n",
    "if torch.cuda.is_available():\n",
    "    print(\"Using GPU: \"+torch.cuda.get_device_name(0) + \" is available\")\n",
    "else: #we are using cpu\n",
    "    print(\"Using CPU\")"
   ]
  },
  {
   "cell_type": "markdown",
   "metadata": {},
   "source": [
    "# I. Document/Text Processing and Embedding Creation\n",
    "\n",
    "Ingredients:\n",
    "* PDF document of choice.\n",
    "* Embedding model of choice.\n",
    "\n",
    "Steps:\n",
    "1. Import PDF document.\n",
    "2. Process text for embedding (e.g. split into chunks of sentences).\n",
    "3. Embed text chunks with embedding model.\n",
    "4. Save embeddings to file for later use (embeddings will store on file for many years or until you lose your hard drive)."
   ]
  },
  {
   "cell_type": "markdown",
   "metadata": {},
   "source": [
    "## 1. Import PDF document"
   ]
  },
  {
   "cell_type": "code",
   "execution_count": 3,
   "metadata": {},
   "outputs": [
    {
     "name": "stdout",
     "output_type": "stream",
     "text": [
      "File greg_doucette_cookbook_2_0.pdf exists.\n"
     ]
    }
   ],
   "source": [
    "# Get PDF document\n",
    "pdf_path = \"greg_doucette_cookbook_2_0.pdf\"\n",
    "\n",
    "# Download PDF if it doesn't already exist\n",
    "if not os.path.exists(pdf_path):\n",
    "  print(\"File doesn't exist, go to the link in the README to download it.\")\n",
    "else:\n",
    "  print(f\"File {pdf_path} exists.\")"
   ]
  },
  {
   "cell_type": "code",
   "execution_count": 4,
   "metadata": {},
   "outputs": [
    {
     "name": "stderr",
     "output_type": "stream",
     "text": [
      "205it [00:00, 449.28it/s]\n"
     ]
    }
   ],
   "source": [
    "\n",
    "def text_formatter(text: str) -> str:\n",
    "    \"\"\"Performs minor formatting on text.\"\"\"\n",
    "    cleaned_text = text.replace(\"\\n\", \" \").strip() # note: this might be different for each doc (best to experiment)\n",
    "\n",
    "    # Other potential text formatting functions can go here\n",
    "    return cleaned_text\n",
    "\n",
    "# Open PDF and get lines/pages\n",
    "# Note: this only focuses on text, rather than images/figures etc\n",
    "def open_and_read_pdf(pdf_path: str) -> list[dict]:\n",
    "    \"\"\"\n",
    "    Opens a PDF file, reads its text content page by page, and collects statistics.\n",
    "\n",
    "    Parameters:\n",
    "        pdf_path (str): The file path to the PDF document to be opened and read.\n",
    "\n",
    "    Returns:\n",
    "        list[dict]: A list of dictionaries, each containing the page number\n",
    "        (adjusted), character count, word count, sentence count, token count, and the extracted text\n",
    "        for each page.\n",
    "    \"\"\"\n",
    "    doc = fitz.open(pdf_path)  # open a document\n",
    "    pages_and_texts = []\n",
    "    for page_number, page in tqdm(enumerate(doc)):  # iterate the document pages\n",
    "        text = page.get_text()  # get plain text encoded as UTF-8\n",
    "        #text = text_formatter(text)\n",
    "        pages_and_texts.append({\"page_number\": page_number+1,  # adjust page numbers since our PDF starts on page 42\n",
    "                                 \"page_char_count\": len(text),\n",
    "                                 \"page_word_count\": len(text.split(\" \")),\n",
    "                                 \"page_sentence_count_raw\": len(text.split(\". \")),\n",
    "                                \"page_token_count\": len(text) / 4,  # 1 token = ~4 chars, see: https://help.openai.com/en/articles/4936856-what-are-tokens-and-how-to-count-them\n",
    "                                \"text\": text})\n",
    "    return pages_and_texts\n",
    "\n",
    "pages_and_texts = open_and_read_pdf(pdf_path=pdf_path)"
   ]
  },
  {
   "cell_type": "code",
   "execution_count": 5,
   "metadata": {},
   "outputs": [
    {
     "data": {
      "text/plain": [
       "205"
      ]
     },
     "execution_count": 5,
     "metadata": {},
     "output_type": "execute_result"
    }
   ],
   "source": [
    "len(pages_and_texts)"
   ]
  },
  {
   "cell_type": "markdown",
   "metadata": {},
   "source": [
    "# Data Cleaning"
   ]
  },
  {
   "cell_type": "markdown",
   "metadata": {},
   "source": [
    "We separate the pages by recipe, table for fruits and table for vegetables."
   ]
  },
  {
   "cell_type": "code",
   "execution_count": 6,
   "metadata": {},
   "outputs": [],
   "source": [
    "table_of_contents = pages_and_texts[len(pages_and_texts)-19:len(pages_and_texts)-2]\n",
    "recipes = pages_and_texts[16:len(pages_and_texts)-21]\n",
    "vegetables_raw_and_legumes_servings_reference_table=table_of_contents[-3:-1]\n",
    "fruits_servings_reference_table=table_of_contents[-4]"
   ]
  },
  {
   "cell_type": "code",
   "execution_count": 7,
   "metadata": {},
   "outputs": [
    {
     "data": {
      "text/plain": [
       "168"
      ]
     },
     "execution_count": 7,
     "metadata": {},
     "output_type": "execute_result"
    }
   ],
   "source": [
    "len(recipes)"
   ]
  },
  {
   "cell_type": "code",
   "execution_count": 8,
   "metadata": {},
   "outputs": [
    {
     "data": {
      "text/plain": [
       "2"
      ]
     },
     "execution_count": 8,
     "metadata": {},
     "output_type": "execute_result"
    }
   ],
   "source": [
    "len(vegetables_raw_and_legumes_servings_reference_table)"
   ]
  },
  {
   "cell_type": "code",
   "execution_count": 9,
   "metadata": {},
   "outputs": [
    {
     "data": {
      "text/plain": [
       "6"
      ]
     },
     "execution_count": 9,
     "metadata": {},
     "output_type": "execute_result"
    }
   ],
   "source": [
    "len(fruits_servings_reference_table)"
   ]
  },
  {
   "cell_type": "markdown",
   "metadata": {},
   "source": [
    "## P_D_I_P_R database creation\n",
    "\n",
    "We create a dataset with the following columns:\n",
    "* The page Number\n",
    "* The directions list\n",
    "* The Ingredients list\n",
    "* The preparation time\n",
    "* The ready in time"
   ]
  },
  {
   "cell_type": "code",
   "execution_count": 10,
   "metadata": {},
   "outputs": [],
   "source": [
    "df = pd.DataFrame(recipes)\n",
    "df.head()\n",
    "df.to_csv('cookbook_data.csv', index=False)"
   ]
  },
  {
   "cell_type": "markdown",
   "metadata": {},
   "source": [
    "### Remove the empty content (they are images in the book)"
   ]
  },
  {
   "cell_type": "code",
   "execution_count": 11,
   "metadata": {},
   "outputs": [],
   "source": [
    "#get the rows that contain ingredients and Directions since everything else is plain explanation\n",
    "df = df[df.text.str.contains('Ingredients|Directions')]"
   ]
  },
  {
   "cell_type": "markdown",
   "metadata": {},
   "source": [
    "we get now the elements we need from the text"
   ]
  },
  {
   "cell_type": "code",
   "execution_count": 12,
   "metadata": {},
   "outputs": [
    {
     "name": "stderr",
     "output_type": "stream",
     "text": [
      "100%|██████████| 130/130 [00:00<00:00, 5760.07it/s]\n"
     ]
    }
   ],
   "source": [
    "def extract_directions(text: str) -> str:\n",
    "    # List of separators to use in the search\n",
    "    separators = [\n",
    "        \"N u t r i t i o n\",\n",
    "        \"N o t e\",\n",
    "        \"N U T R I T I O N\",\n",
    "        \"N O T E\",\n",
    "        \"P R E P\",\n",
    "        \"T O T A L\",\n",
    "        \"V E G E T A R I A N\",\n",
    "        \"V E G A N\",\n",
    "        \"\\nIngredients\\n\",\n",
    "        \"R E A D Y\"\n",
    "    ]\n",
    "    \n",
    "    # Construct a regex pattern to match any of the separators\n",
    "    separator_pattern = r'|'.join([re.escape(separator) for separator in separators])\n",
    "    \n",
    "    # Remove the \"number.\\n\" -> \"number. \" since it is not useful\n",
    "    text = re.sub(r'(\\d+)\\.\\n', r'\\1. ', text)\n",
    "    \n",
    "    # Search for the section \"Directions\"\n",
    "    directions_match = re.search(r'Directions\\s*([\\s\\S]*?)\\s*(' + separator_pattern + r')', text, re.IGNORECASE)\n",
    "    if directions_match:\n",
    "        # Return the found directions\n",
    "        return directions_match.group(1).strip()\n",
    "    return None\n",
    "\n",
    "#we test it on the first 5 rows\n",
    "df['directions'] = df.text.progress_apply(extract_directions)"
   ]
  },
  {
   "cell_type": "code",
   "execution_count": 13,
   "metadata": {},
   "outputs": [
    {
     "name": "stderr",
     "output_type": "stream",
     "text": [
      "100%|██████████| 130/130 [00:00<00:00, 7857.67it/s]\n"
     ]
    }
   ],
   "source": [
    "def extract_ingredients(text: str) -> str:\n",
    "    # List of separators to use in the search\n",
    "    separators = [\n",
    "        \"N u t r i t i o n\",\n",
    "        \"N o t e\",\n",
    "        \"N U T R I T I O N\",\n",
    "        \"N O T E\",\n",
    "        \"P R E P\",\n",
    "        \"T O T A L\",\n",
    "        \"V E G E T A R I A N\",\n",
    "        \"V E G A N\",\n",
    "        \"R E A D Y\",\n",
    "        \"C L I C K\",\n",
    "    ]\n",
    "    \n",
    "    # Construct a regex pattern to match any of the separators\n",
    "    separator_pattern = r'|'.join([re.escape(separator) for separator in separators])\n",
    "    \n",
    "    # Remove the \"number.\\n\" -> \"number. \" since it is not useful\n",
    "    text = re.sub(r'(\\d+)\\.\\n', r'\\1. ', text)\n",
    "    \n",
    "    # Search for the section \"Directions\"\n",
    "    ingredients_match = re.search(r'\\nIngredients\\n\\s*([\\s\\S]*?)\\s*(' + separator_pattern + r')', text, re.IGNORECASE)\n",
    "    if ingredients_match:\n",
    "        # Return the found ingredients\n",
    "        return ingredients_match.group(1).strip()\n",
    "    return None\n",
    "\n",
    "\n",
    "df['ingredients'] = df.text.progress_apply(extract_ingredients)"
   ]
  },
  {
   "cell_type": "code",
   "execution_count": 14,
   "metadata": {},
   "outputs": [],
   "source": [
    "import re\n",
    "import pandas as pd\n",
    "\n",
    "# Function to extract prep time and ready in time\n",
    "def extract_prep_time_and_or_ready_in(text: str) -> dict:\n",
    "    prep_time = None\n",
    "    ready_in = None\n",
    "\n",
    "    # Find all occurrences of \"MINUTES\" and \"HOURS\" in uppercase along with their preceding numbers\n",
    "    times = re.findall(r'(\\d+)\\s*(MINUTES|HOUR)', text)\n",
    "\n",
    "    # Find the occurrence of \"P R E P  T I M E\" and \"R E A D Y  I N\"\n",
    "    prep_time_index = text.find(\"\\nP R E P  T I M E\")\n",
    "    ready_in_index = text.find(\"\\nR E A D Y  I N\")\n",
    "\n",
    "    if prep_time_index != -1 and ready_in_index != -1:\n",
    "        # Determine the order of prep time and ready in time based on their positions in the text\n",
    "        if prep_time_index < ready_in_index:\n",
    "            if len(times) > 0:\n",
    "                prep_time = times[0][0] + \" \" + times[0][1] if times[0][1] == \"MINUTES\" else None\n",
    "            if len(times) > 1:\n",
    "                ready_in = times[1][0] + \" \" + times[1][1]\n",
    "        else:\n",
    "            if len(times) > 0:\n",
    "                ready_in = times[0][0] + \" \" + times[0][1]\n",
    "            if len(times) > 1:\n",
    "                prep_time = times[1][0] + \" \" + times[1][1] if times[1][1] == \"MINUTES\" else None\n",
    "    elif prep_time_index != -1:\n",
    "        prep_time = times[0][0] + \" \" + times[0][1] if len(times) > 0 and times[0][1] == \"MINUTES\" else None\n",
    "    elif ready_in_index != -1:\n",
    "        ready_in = times[0][0] + \" \" + times[0][1] if len(times) > 0 else None\n",
    "\n",
    "    return {\n",
    "        \"prep_time\": prep_time,\n",
    "        \"ready_in\": ready_in\n",
    "    }\n",
    "\n",
    "\n",
    "# Apply the function to the dataframe\n",
    "df[['prep_time', 'ready_in']] = df['text'].apply(lambda x: pd.Series(extract_prep_time_and_or_ready_in(x)))\n"
   ]
  },
  {
   "cell_type": "code",
   "execution_count": 15,
   "metadata": {},
   "outputs": [
    {
     "data": {
      "text/html": [
       "<div>\n",
       "<style scoped>\n",
       "    .dataframe tbody tr th:only-of-type {\n",
       "        vertical-align: middle;\n",
       "    }\n",
       "\n",
       "    .dataframe tbody tr th {\n",
       "        vertical-align: top;\n",
       "    }\n",
       "\n",
       "    .dataframe thead th {\n",
       "        text-align: right;\n",
       "    }\n",
       "</style>\n",
       "<table border=\"1\" class=\"dataframe\">\n",
       "  <thead>\n",
       "    <tr style=\"text-align: right;\">\n",
       "      <th></th>\n",
       "      <th>page_number</th>\n",
       "      <th>page_char_count</th>\n",
       "      <th>page_word_count</th>\n",
       "      <th>page_sentence_count_raw</th>\n",
       "      <th>page_token_count</th>\n",
       "      <th>text</th>\n",
       "      <th>directions</th>\n",
       "      <th>ingredients</th>\n",
       "      <th>prep_time</th>\n",
       "      <th>ready_in</th>\n",
       "    </tr>\n",
       "  </thead>\n",
       "  <tbody>\n",
       "    <tr>\n",
       "      <th>0</th>\n",
       "      <td>17</td>\n",
       "      <td>2206</td>\n",
       "      <td>765</td>\n",
       "      <td>6</td>\n",
       "      <td>551.50</td>\n",
       "      <td>17\\nwww.gregdoucette.com\\nT H E  U L T I M A T...</td>\n",
       "      <td>1. Pre-heat the oven to 400°F (204°C).\\n2. Cho...</td>\n",
       "      <td>M A K E S  1  B A T C H .  S E R V I N G \\nS I...</td>\n",
       "      <td>20 MINUTES</td>\n",
       "      <td>1 HOUR</td>\n",
       "    </tr>\n",
       "    <tr>\n",
       "      <th>1</th>\n",
       "      <td>18</td>\n",
       "      <td>2205</td>\n",
       "      <td>616</td>\n",
       "      <td>8</td>\n",
       "      <td>551.25</td>\n",
       "      <td>18\\nwww.gregdoucette.com\\nT H E  U L T I M A T...</td>\n",
       "      <td>1. In a bowl, add egg whites, sweetener, cinna...</td>\n",
       "      <td>M A K E S  1  S E R V I N G\\n180g (¾ cup) egg ...</td>\n",
       "      <td>10 MINUTES</td>\n",
       "      <td>20 MINUTES</td>\n",
       "    </tr>\n",
       "    <tr>\n",
       "      <th>3</th>\n",
       "      <td>20</td>\n",
       "      <td>2736</td>\n",
       "      <td>653</td>\n",
       "      <td>3</td>\n",
       "      <td>684.00</td>\n",
       "      <td>20\\nwww.gregdoucette.com\\nT H E  U L T I M A T...</td>\n",
       "      <td>1. In a bowl, mix the filling ingredients with...</td>\n",
       "      <td>M A K E S  2  R O L L - U P S  ( 1  S E R V I ...</td>\n",
       "      <td>10 MINUTES</td>\n",
       "      <td>20 MINUTES</td>\n",
       "    </tr>\n",
       "    <tr>\n",
       "      <th>4</th>\n",
       "      <td>21</td>\n",
       "      <td>2019</td>\n",
       "      <td>556</td>\n",
       "      <td>8</td>\n",
       "      <td>504.75</td>\n",
       "      <td>21\\nwww.gregdoucette.com\\nT H E  U L T I M A T...</td>\n",
       "      <td>1. In a bowl, add egg whites, sweetener, cinna...</td>\n",
       "      <td>M A K E S  1  S E R V I N G\\n180g (¾ cup) egg ...</td>\n",
       "      <td>10 MINUTES</td>\n",
       "      <td>20 MINUTES</td>\n",
       "    </tr>\n",
       "    <tr>\n",
       "      <th>5</th>\n",
       "      <td>22</td>\n",
       "      <td>2312</td>\n",
       "      <td>816</td>\n",
       "      <td>8</td>\n",
       "      <td>578.00</td>\n",
       "      <td>22\\nwww.gregdoucette.com\\nT H E  U L T I M A T...</td>\n",
       "      <td>1. Pre-heat the oven to 400°F (204°C).\\n2. Cut...</td>\n",
       "      <td>M A K E S  1  B A T C H .  S E R V I N G \\nS I...</td>\n",
       "      <td>15 MINUTES</td>\n",
       "      <td>1 HOUR</td>\n",
       "    </tr>\n",
       "  </tbody>\n",
       "</table>\n",
       "</div>"
      ],
      "text/plain": [
       "   page_number  page_char_count  page_word_count  page_sentence_count_raw  \\\n",
       "0           17             2206              765                        6   \n",
       "1           18             2205              616                        8   \n",
       "3           20             2736              653                        3   \n",
       "4           21             2019              556                        8   \n",
       "5           22             2312              816                        8   \n",
       "\n",
       "   page_token_count                                               text  \\\n",
       "0            551.50  17\\nwww.gregdoucette.com\\nT H E  U L T I M A T...   \n",
       "1            551.25  18\\nwww.gregdoucette.com\\nT H E  U L T I M A T...   \n",
       "3            684.00  20\\nwww.gregdoucette.com\\nT H E  U L T I M A T...   \n",
       "4            504.75  21\\nwww.gregdoucette.com\\nT H E  U L T I M A T...   \n",
       "5            578.00  22\\nwww.gregdoucette.com\\nT H E  U L T I M A T...   \n",
       "\n",
       "                                          directions  \\\n",
       "0  1. Pre-heat the oven to 400°F (204°C).\\n2. Cho...   \n",
       "1  1. In a bowl, add egg whites, sweetener, cinna...   \n",
       "3  1. In a bowl, mix the filling ingredients with...   \n",
       "4  1. In a bowl, add egg whites, sweetener, cinna...   \n",
       "5  1. Pre-heat the oven to 400°F (204°C).\\n2. Cut...   \n",
       "\n",
       "                                         ingredients   prep_time    ready_in  \n",
       "0  M A K E S  1  B A T C H .  S E R V I N G \\nS I...  20 MINUTES      1 HOUR  \n",
       "1  M A K E S  1  S E R V I N G\\n180g (¾ cup) egg ...  10 MINUTES  20 MINUTES  \n",
       "3  M A K E S  2  R O L L - U P S  ( 1  S E R V I ...  10 MINUTES  20 MINUTES  \n",
       "4  M A K E S  1  S E R V I N G\\n180g (¾ cup) egg ...  10 MINUTES  20 MINUTES  \n",
       "5  M A K E S  1  B A T C H .  S E R V I N G \\nS I...  15 MINUTES      1 HOUR  "
      ]
     },
     "execution_count": 15,
     "metadata": {},
     "output_type": "execute_result"
    }
   ],
   "source": [
    "df.head()"
   ]
  },
  {
   "cell_type": "markdown",
   "metadata": {},
   "source": [
    "We identified that \\u00b0F is Fahrenheit (°F) and \\u00b0C is Celcius (°C) So we replace it. And we know it is only in the direction, because, why would the degree too cook be in the ingredient list ? "
   ]
  },
  {
   "cell_type": "markdown",
   "metadata": {},
   "source": [
    "We remove the \"ass\" in the dataset... because we are good boys."
   ]
  },
  {
   "cell_type": "markdown",
   "metadata": {},
   "source": [
    "In the cookbook, there are notes and links that would not be necessary, as such we will remove it.\n",
    "It starts with \"click to...\", we don't need it, so we remove it."
   ]
  },
  {
   "cell_type": "code",
   "execution_count": 16,
   "metadata": {},
   "outputs": [
    {
     "data": {
      "text/html": [
       "<div>\n",
       "<style scoped>\n",
       "    .dataframe tbody tr th:only-of-type {\n",
       "        vertical-align: middle;\n",
       "    }\n",
       "\n",
       "    .dataframe tbody tr th {\n",
       "        vertical-align: top;\n",
       "    }\n",
       "\n",
       "    .dataframe thead th {\n",
       "        text-align: right;\n",
       "    }\n",
       "</style>\n",
       "<table border=\"1\" class=\"dataframe\">\n",
       "  <thead>\n",
       "    <tr style=\"text-align: right;\">\n",
       "      <th></th>\n",
       "      <th>page_number</th>\n",
       "      <th>page_char_count</th>\n",
       "      <th>page_word_count</th>\n",
       "      <th>page_sentence_count_raw</th>\n",
       "      <th>page_token_count</th>\n",
       "      <th>text</th>\n",
       "      <th>directions</th>\n",
       "      <th>ingredients</th>\n",
       "      <th>prep_time</th>\n",
       "      <th>ready_in</th>\n",
       "    </tr>\n",
       "  </thead>\n",
       "  <tbody>\n",
       "    <tr>\n",
       "      <th>0</th>\n",
       "      <td>17</td>\n",
       "      <td>2206</td>\n",
       "      <td>765</td>\n",
       "      <td>6</td>\n",
       "      <td>551.50</td>\n",
       "      <td>17\\nwww.gregdoucette.com\\nT H E  U L T I M A T...</td>\n",
       "      <td>1. Pre-heat the oven to 400°F (204°C).\\n2. Cho...</td>\n",
       "      <td>M A K E S  1  B A T C H .  S E R V I N G \\nS I...</td>\n",
       "      <td>20 MINUTES</td>\n",
       "      <td>1 HOUR</td>\n",
       "    </tr>\n",
       "    <tr>\n",
       "      <th>1</th>\n",
       "      <td>18</td>\n",
       "      <td>2205</td>\n",
       "      <td>616</td>\n",
       "      <td>8</td>\n",
       "      <td>551.25</td>\n",
       "      <td>18\\nwww.gregdoucette.com\\nT H E  U L T I M A T...</td>\n",
       "      <td>1. In a bowl, add egg whites, sweetener, cinna...</td>\n",
       "      <td>M A K E S  1  S E R V I N G\\n180g (¾ cup) egg ...</td>\n",
       "      <td>10 MINUTES</td>\n",
       "      <td>20 MINUTES</td>\n",
       "    </tr>\n",
       "    <tr>\n",
       "      <th>3</th>\n",
       "      <td>20</td>\n",
       "      <td>2736</td>\n",
       "      <td>653</td>\n",
       "      <td>3</td>\n",
       "      <td>684.00</td>\n",
       "      <td>20\\nwww.gregdoucette.com\\nT H E  U L T I M A T...</td>\n",
       "      <td>1. In a bowl, mix the filling ingredients with...</td>\n",
       "      <td>M A K E S  2  R O L L - U P S  ( 1  S E R V I ...</td>\n",
       "      <td>10 MINUTES</td>\n",
       "      <td>20 MINUTES</td>\n",
       "    </tr>\n",
       "    <tr>\n",
       "      <th>4</th>\n",
       "      <td>21</td>\n",
       "      <td>2019</td>\n",
       "      <td>556</td>\n",
       "      <td>8</td>\n",
       "      <td>504.75</td>\n",
       "      <td>21\\nwww.gregdoucette.com\\nT H E  U L T I M A T...</td>\n",
       "      <td>1. In a bowl, add egg whites, sweetener, cinna...</td>\n",
       "      <td>M A K E S  1  S E R V I N G\\n180g (¾ cup) egg ...</td>\n",
       "      <td>10 MINUTES</td>\n",
       "      <td>20 MINUTES</td>\n",
       "    </tr>\n",
       "    <tr>\n",
       "      <th>5</th>\n",
       "      <td>22</td>\n",
       "      <td>2312</td>\n",
       "      <td>816</td>\n",
       "      <td>8</td>\n",
       "      <td>578.00</td>\n",
       "      <td>22\\nwww.gregdoucette.com\\nT H E  U L T I M A T...</td>\n",
       "      <td>1. Pre-heat the oven to 400°F (204°C).\\n2. Cut...</td>\n",
       "      <td>M A K E S  1  B A T C H .  S E R V I N G \\nS I...</td>\n",
       "      <td>15 MINUTES</td>\n",
       "      <td>1 HOUR</td>\n",
       "    </tr>\n",
       "  </tbody>\n",
       "</table>\n",
       "</div>"
      ],
      "text/plain": [
       "   page_number  page_char_count  page_word_count  page_sentence_count_raw  \\\n",
       "0           17             2206              765                        6   \n",
       "1           18             2205              616                        8   \n",
       "3           20             2736              653                        3   \n",
       "4           21             2019              556                        8   \n",
       "5           22             2312              816                        8   \n",
       "\n",
       "   page_token_count                                               text  \\\n",
       "0            551.50  17\\nwww.gregdoucette.com\\nT H E  U L T I M A T...   \n",
       "1            551.25  18\\nwww.gregdoucette.com\\nT H E  U L T I M A T...   \n",
       "3            684.00  20\\nwww.gregdoucette.com\\nT H E  U L T I M A T...   \n",
       "4            504.75  21\\nwww.gregdoucette.com\\nT H E  U L T I M A T...   \n",
       "5            578.00  22\\nwww.gregdoucette.com\\nT H E  U L T I M A T...   \n",
       "\n",
       "                                          directions  \\\n",
       "0  1. Pre-heat the oven to 400°F (204°C).\\n2. Cho...   \n",
       "1  1. In a bowl, add egg whites, sweetener, cinna...   \n",
       "3  1. In a bowl, mix the filling ingredients with...   \n",
       "4  1. In a bowl, add egg whites, sweetener, cinna...   \n",
       "5  1. Pre-heat the oven to 400°F (204°C).\\n2. Cut...   \n",
       "\n",
       "                                         ingredients   prep_time    ready_in  \n",
       "0  M A K E S  1  B A T C H .  S E R V I N G \\nS I...  20 MINUTES      1 HOUR  \n",
       "1  M A K E S  1  S E R V I N G\\n180g (¾ cup) egg ...  10 MINUTES  20 MINUTES  \n",
       "3  M A K E S  2  R O L L - U P S  ( 1  S E R V I ...  10 MINUTES  20 MINUTES  \n",
       "4  M A K E S  1  S E R V I N G\\n180g (¾ cup) egg ...  10 MINUTES  20 MINUTES  \n",
       "5  M A K E S  1  B A T C H .  S E R V I N G \\nS I...  15 MINUTES      1 HOUR  "
      ]
     },
     "execution_count": 16,
     "metadata": {},
     "output_type": "execute_result"
    }
   ],
   "source": [
    "# List of phrases to remove\n",
    "click_to_and_get_strings = [\n",
    "    \"CLICK TO ORDER ICON MEALS PROTEIN BREAD\",\n",
    "    \"CLICK TO ORDER LOW-CALORIE SYRUP\",\n",
    "    \"CLICK TO PURCHASE GUAR GUM\",\n",
    "    \"CLICK TO ORDER WALDEN FARMS SYRUP\",\n",
    "    \"CLICK TO PURCHASE A NINJA BLENDER\",\n",
    "    \"CLICK TO PURCHASE MUSCLE EGG\",\n",
    "    \"CLICK TO PURCHASE LIQUID MUSCLE\",\n",
    "    \"CLICK TO PURCHASE MISSION CARB BALANCE TORTILLA\",\n",
    "    \"CLICK TO PURCHASE YVES VEGGIE TOFU DOGS\",\n",
    "    \"CLICK TO PURCHASE PALMINI LOW-CARB LASAGNA\",\n",
    "    \"CLICK TO PURCHASE VEGGIE GROUND \\\"MEAT\\\"\",\n",
    "    \"CLICK TO PURCHASE SUGAR-FREE CHOCOLATE SAUCE\",\n",
    "    \"GET SUGAR-FREE CHOCOLATE JELL-O PUDDING\",\n",
    "    \"GET CHOCOLATE SUGAR-FREE JELLO PUDDING MIX\",\n",
    "    \"GET GUAR GUM\",\n",
    "    \"GET PB2 POWDERED PEANUT BUTTER\",\n",
    "    \"CLICK TO PURCHASE PB2 POWDERED PEANUT BUTTER\",\n",
    "    \"CLICK TO PURCHASE PUMPKIN PURÉE\",\n",
    "    \"CLICK TO PURCHASE PB2 (POWDERED PEANUT BUTTER)\",\n",
    "    \"CLICK TO PURCHASE FIBER ONE BROWNIE BAR\",\n",
    "    \"CLICK TO PURCHASE CHOCOLATE PB2 POWDER\",\n",
    "    \"GET BANANA SUGAR-FREE JELLO PUDDING MIX\",\n",
    "    \"CLICK TO PURCHASE WALDEN FARMS MAPLE WALNUT SYRUP\",\n",
    "    \"CLICK TO PURCHASE HERSHEY'S HEALTH SHELL TOPPING\",\n",
    "    \"CLICK TO PURCHASE SUGAR-FREE JELLO CHEESECAKE PUDDING POWDER\",\n",
    "    \"CLICK TO PURCHASE LIBBY’S 100% PURE PUMPKIN\",\n",
    "    \"CLICK TO PURCHASE SUGAR-FREE VANILLA PUDDING JELL-O\",\n",
    "    \"GET CHOCOLATE PB2 POWDERED PEANUT BUTTER\",\n",
    "]\n",
    "\n",
    "# Function to remove specific phrases from text\n",
    "def remove_phrases(text, phrases):\n",
    "    for phrase in phrases:\n",
    "        text = text.replace(phrase, '')\n",
    "    return text\n",
    "\n",
    "# Apply cleaning to all texts in the dataset\n",
    "df['text'] = df['text'].apply(lambda x: remove_phrases(x, click_to_and_get_strings))\n",
    "\n",
    "# Save the cleaned data to a new CSV file\n",
    "cleaned_file_path = 'cleaned_cookbook_data.csv'\n",
    "df.to_csv(cleaned_file_path, index=False)\n",
    "\n",
    "# Display the first few rows of the cleaned DataFrame\n",
    "df.head()\n"
   ]
  },
  {
   "cell_type": "code",
   "execution_count": 17,
   "metadata": {},
   "outputs": [],
   "source": [
    "#we replace de 1 hour by 60 minutes\n",
    "df['ready_in'] = df['ready_in'].str.replace('1 HOUR', '60 MINUTES')"
   ]
  },
  {
   "cell_type": "code",
   "execution_count": 18,
   "metadata": {},
   "outputs": [],
   "source": [
    "#we replace the column name ready_in by ready_in_minutes and prep_time by prep_time_minutes\n",
    "df.rename(columns={'ready_in': 'ready_in_minutes', 'prep_time': 'prep_time_minutes'}, inplace=True)\n",
    "\n",
    "#we remove the words MINUTES and HOUR\n",
    "df['ready_in_minutes'] = df['ready_in_minutes'].str.replace('MINUTES', '')\n",
    "df['prep_time_minutes'] = df['prep_time_minutes'].str.replace('MINUTES', '')\n",
    "#we remove useless spaces\n",
    "df['ready_in_minutes'] = df['ready_in_minutes'].str.strip()\n",
    "df['prep_time_minutes'] = df['prep_time_minutes'].str.strip()"
   ]
  },
  {
   "cell_type": "code",
   "execution_count": 19,
   "metadata": {},
   "outputs": [],
   "source": [
    "#we drop the useless columns LIKE page_number, page_char_count, page_word_count, page_sentence_count_raw, page_token_count\n",
    "df.drop(columns=['text','page_char_count', 'page_word_count', 'page_sentence_count_raw', 'page_token_count'], inplace=True)"
   ]
  },
  {
   "cell_type": "code",
   "execution_count": 20,
   "metadata": {},
   "outputs": [
    {
     "data": {
      "text/html": [
       "<div>\n",
       "<style scoped>\n",
       "    .dataframe tbody tr th:only-of-type {\n",
       "        vertical-align: middle;\n",
       "    }\n",
       "\n",
       "    .dataframe tbody tr th {\n",
       "        vertical-align: top;\n",
       "    }\n",
       "\n",
       "    .dataframe thead th {\n",
       "        text-align: right;\n",
       "    }\n",
       "</style>\n",
       "<table border=\"1\" class=\"dataframe\">\n",
       "  <thead>\n",
       "    <tr style=\"text-align: right;\">\n",
       "      <th></th>\n",
       "      <th>page_number</th>\n",
       "      <th>directions</th>\n",
       "      <th>ingredients</th>\n",
       "      <th>prep_time_minutes</th>\n",
       "      <th>ready_in_minutes</th>\n",
       "    </tr>\n",
       "  </thead>\n",
       "  <tbody>\n",
       "    <tr>\n",
       "      <th>0</th>\n",
       "      <td>17</td>\n",
       "      <td>1. Pre-heat the oven to 400°F (204°C).\\n2. Cho...</td>\n",
       "      <td>M A K E S  1  B A T C H .  S E R V I N G \\nS I...</td>\n",
       "      <td>20</td>\n",
       "      <td>60</td>\n",
       "    </tr>\n",
       "    <tr>\n",
       "      <th>1</th>\n",
       "      <td>18</td>\n",
       "      <td>1. In a bowl, add egg whites, sweetener, cinna...</td>\n",
       "      <td>M A K E S  1  S E R V I N G\\n180g (¾ cup) egg ...</td>\n",
       "      <td>10</td>\n",
       "      <td>20</td>\n",
       "    </tr>\n",
       "    <tr>\n",
       "      <th>3</th>\n",
       "      <td>20</td>\n",
       "      <td>1. In a bowl, mix the filling ingredients with...</td>\n",
       "      <td>M A K E S  2  R O L L - U P S  ( 1  S E R V I ...</td>\n",
       "      <td>10</td>\n",
       "      <td>20</td>\n",
       "    </tr>\n",
       "    <tr>\n",
       "      <th>4</th>\n",
       "      <td>21</td>\n",
       "      <td>1. In a bowl, add egg whites, sweetener, cinna...</td>\n",
       "      <td>M A K E S  1  S E R V I N G\\n180g (¾ cup) egg ...</td>\n",
       "      <td>10</td>\n",
       "      <td>20</td>\n",
       "    </tr>\n",
       "    <tr>\n",
       "      <th>5</th>\n",
       "      <td>22</td>\n",
       "      <td>1. Pre-heat the oven to 400°F (204°C).\\n2. Cut...</td>\n",
       "      <td>M A K E S  1  B A T C H .  S E R V I N G \\nS I...</td>\n",
       "      <td>15</td>\n",
       "      <td>60</td>\n",
       "    </tr>\n",
       "  </tbody>\n",
       "</table>\n",
       "</div>"
      ],
      "text/plain": [
       "   page_number                                         directions  \\\n",
       "0           17  1. Pre-heat the oven to 400°F (204°C).\\n2. Cho...   \n",
       "1           18  1. In a bowl, add egg whites, sweetener, cinna...   \n",
       "3           20  1. In a bowl, mix the filling ingredients with...   \n",
       "4           21  1. In a bowl, add egg whites, sweetener, cinna...   \n",
       "5           22  1. Pre-heat the oven to 400°F (204°C).\\n2. Cut...   \n",
       "\n",
       "                                         ingredients prep_time_minutes  \\\n",
       "0  M A K E S  1  B A T C H .  S E R V I N G \\nS I...                20   \n",
       "1  M A K E S  1  S E R V I N G\\n180g (¾ cup) egg ...                10   \n",
       "3  M A K E S  2  R O L L - U P S  ( 1  S E R V I ...                10   \n",
       "4  M A K E S  1  S E R V I N G\\n180g (¾ cup) egg ...                10   \n",
       "5  M A K E S  1  B A T C H .  S E R V I N G \\nS I...                15   \n",
       "\n",
       "  ready_in_minutes  \n",
       "0               60  \n",
       "1               20  \n",
       "3               20  \n",
       "4               20  \n",
       "5               60  "
      ]
     },
     "execution_count": 20,
     "metadata": {},
     "output_type": "execute_result"
    }
   ],
   "source": [
    "df.head()"
   ]
  },
  {
   "cell_type": "code",
   "execution_count": 21,
   "metadata": {},
   "outputs": [],
   "source": [
    "df.to_csv('P_D_I_P_R.csv', index=False)"
   ]
  },
  {
   "cell_type": "markdown",
   "metadata": {},
   "source": [
    "We completed our first database. That contains the directions of the recipe, along with the ingredients, the page number, the prep time and the ready in time. Now we will focus on creating a second database that contains the recipes title, along with the macronutrients and the page."
   ]
  },
  {
   "cell_type": "markdown",
   "metadata": {},
   "source": [
    "##  P_T_C_F_C_F_P database creation\n",
    "\n",
    "We create a dataset with the following columns:\n",
    "* The page Number\n",
    "* The title of the recipe\n",
    "* The calories\n",
    "* The Fat content\n",
    "* the Carb content\n",
    "* The fiber content\n",
    "* The Protein content\n",
    "\n",
    "We start of by getting the associated page."
   ]
  },
  {
   "cell_type": "code",
   "execution_count": null,
   "metadata": {},
   "outputs": [],
   "source": []
  }
 ],
 "metadata": {
  "kernelspec": {
   "display_name": "venv",
   "language": "python",
   "name": "python3"
  },
  "language_info": {
   "codemirror_mode": {
    "name": "ipython",
    "version": 3
   },
   "file_extension": ".py",
   "mimetype": "text/x-python",
   "name": "python",
   "nbconvert_exporter": "python",
   "pygments_lexer": "ipython3",
   "version": "3.11.8"
  }
 },
 "nbformat": 4,
 "nbformat_minor": 2
}
