{
 "cells": [
  {
   "cell_type": "markdown",
   "metadata": {},
   "source": [
    "# Libraries"
   ]
  },
  {
   "cell_type": "code",
   "execution_count": 1,
   "metadata": {},
   "outputs": [],
   "source": [
    "import torch\n",
    "import os\n",
    "import re\n",
    "import fitz # (pymupdf, found this is better than pypdf for our use case, note: licence is AGPL-3.0, keep that in mind if you want to use any code commercially)\n",
    "from tqdm.auto import tqdm # for progress bars, requires !pip install tqdm \n",
    "import pandas as pd\n",
    "from tqdm import tqdm\n",
    "tqdm.pandas()"
   ]
  },
  {
   "cell_type": "markdown",
   "metadata": {},
   "source": [
    "# check if GPU is accessible"
   ]
  },
  {
   "cell_type": "code",
   "execution_count": 2,
   "metadata": {},
   "outputs": [
    {
     "name": "stdout",
     "output_type": "stream",
     "text": [
      "Using GPU: NVIDIA GeForce RTX 2060 is available\n"
     ]
    }
   ],
   "source": [
    "#check gpu access\n",
    "if torch.cuda.is_available():\n",
    "    print(\"Using GPU: \"+torch.cuda.get_device_name(0) + \" is available\")\n",
    "else: #we are using cpu\n",
    "    print(\"Using CPU\")"
   ]
  },
  {
   "cell_type": "markdown",
   "metadata": {},
   "source": [
    "# I. Document/Text Processing and Embedding Creation\n",
    "\n",
    "Ingredients:\n",
    "* PDF document of choice.\n",
    "* Embedding model of choice.\n",
    "\n",
    "Steps:\n",
    "1. Import PDF document.\n",
    "2. Process text for embedding (e.g. split into chunks of sentences).\n",
    "3. Embed text chunks with embedding model.\n",
    "4. Save embeddings to file for later use (embeddings will store on file for many years or until you lose your hard drive)."
   ]
  },
  {
   "cell_type": "markdown",
   "metadata": {},
   "source": [
    "## 1. Import PDF document"
   ]
  },
  {
   "cell_type": "code",
   "execution_count": 3,
   "metadata": {},
   "outputs": [
    {
     "name": "stdout",
     "output_type": "stream",
     "text": [
      "File greg_doucette_cookbook_2_0.pdf exists.\n"
     ]
    }
   ],
   "source": [
    "# Get PDF document\n",
    "pdf_path = \"greg_doucette_cookbook_2_0.pdf\"\n",
    "\n",
    "# Download PDF if it doesn't already exist\n",
    "if not os.path.exists(pdf_path):\n",
    "  print(\"File doesn't exist, go to the link in the README to download it.\")\n",
    "else:\n",
    "  print(f\"File {pdf_path} exists.\")"
   ]
  },
  {
   "cell_type": "code",
   "execution_count": 4,
   "metadata": {},
   "outputs": [
    {
     "name": "stderr",
     "output_type": "stream",
     "text": [
      "205it [00:00, 456.34it/s]\n"
     ]
    }
   ],
   "source": [
    "\n",
    "def text_formatter(text: str) -> str:\n",
    "    \"\"\"Performs minor formatting on text.\"\"\"\n",
    "    cleaned_text = text.replace(\"\\n\", \" \").strip() # note: this might be different for each doc (best to experiment)\n",
    "\n",
    "    # Other potential text formatting functions can go here\n",
    "    return cleaned_text\n",
    "\n",
    "# Open PDF and get lines/pages\n",
    "# Note: this only focuses on text, rather than images/figures etc\n",
    "def open_and_read_pdf(pdf_path: str) -> list[dict]:\n",
    "    \"\"\"\n",
    "    Opens a PDF file, reads its text content page by page, and collects statistics.\n",
    "\n",
    "    Parameters:\n",
    "        pdf_path (str): The file path to the PDF document to be opened and read.\n",
    "\n",
    "    Returns:\n",
    "        list[dict]: A list of dictionaries, each containing the page number\n",
    "        (adjusted), character count, word count, sentence count, token count, and the extracted text\n",
    "        for each page.\n",
    "    \"\"\"\n",
    "    doc = fitz.open(pdf_path)  # open a document\n",
    "    pages_and_texts = []\n",
    "    for page_number, page in tqdm(enumerate(doc)):  # iterate the document pages\n",
    "        text = page.get_text()  # get plain text encoded as UTF-8\n",
    "        #text = text_formatter(text)\n",
    "        pages_and_texts.append({\"page_number\": page_number+1,  # adjust page numbers since our PDF starts on page 42\n",
    "                                 \"page_char_count\": len(text),\n",
    "                                 \"page_word_count\": len(text.split(\" \")),\n",
    "                                 \"page_sentence_count_raw\": len(text.split(\". \")),\n",
    "                                \"page_token_count\": len(text) / 4,  # 1 token = ~4 chars, see: https://help.openai.com/en/articles/4936856-what-are-tokens-and-how-to-count-them\n",
    "                                \"text\": text})\n",
    "    return pages_and_texts\n",
    "\n",
    "pages_and_texts = open_and_read_pdf(pdf_path=pdf_path)"
   ]
  },
  {
   "cell_type": "code",
   "execution_count": 5,
   "metadata": {},
   "outputs": [
    {
     "data": {
      "text/plain": [
       "205"
      ]
     },
     "execution_count": 5,
     "metadata": {},
     "output_type": "execute_result"
    }
   ],
   "source": [
    "len(pages_and_texts)"
   ]
  },
  {
   "cell_type": "markdown",
   "metadata": {},
   "source": [
    "# Data Cleaning"
   ]
  },
  {
   "cell_type": "markdown",
   "metadata": {},
   "source": [
    "We separate the pages by recipe, table for fruits and table for vegetables."
   ]
  },
  {
   "cell_type": "code",
   "execution_count": 6,
   "metadata": {},
   "outputs": [],
   "source": [
    "table_of_contents = pages_and_texts[len(pages_and_texts)-19:len(pages_and_texts)-2]\n",
    "recipes = pages_and_texts[16:len(pages_and_texts)-21]\n",
    "vegetables_raw_and_legumes_servings_reference_table=table_of_contents[-3:-1]\n",
    "fruits_servings_reference_table=table_of_contents[-4]"
   ]
  },
  {
   "cell_type": "code",
   "execution_count": 7,
   "metadata": {},
   "outputs": [
    {
     "data": {
      "text/plain": [
       "168"
      ]
     },
     "execution_count": 7,
     "metadata": {},
     "output_type": "execute_result"
    }
   ],
   "source": [
    "len(recipes)"
   ]
  },
  {
   "cell_type": "code",
   "execution_count": 8,
   "metadata": {},
   "outputs": [
    {
     "data": {
      "text/plain": [
       "2"
      ]
     },
     "execution_count": 8,
     "metadata": {},
     "output_type": "execute_result"
    }
   ],
   "source": [
    "len(vegetables_raw_and_legumes_servings_reference_table)"
   ]
  },
  {
   "cell_type": "code",
   "execution_count": 9,
   "metadata": {},
   "outputs": [
    {
     "data": {
      "text/plain": [
       "6"
      ]
     },
     "execution_count": 9,
     "metadata": {},
     "output_type": "execute_result"
    }
   ],
   "source": [
    "len(fruits_servings_reference_table)"
   ]
  },
  {
   "cell_type": "markdown",
   "metadata": {},
   "source": [
    "## P_D_I_P_R database creation\n",
    "\n",
    "We create a dataset with the following columns:\n",
    "* The page Number\n",
    "* The directions list\n",
    "* The Ingredients list\n",
    "* The preparation time\n",
    "* The ready in time"
   ]
  },
  {
   "cell_type": "code",
   "execution_count": 10,
   "metadata": {},
   "outputs": [],
   "source": [
    "df = pd.DataFrame(recipes)\n",
    "df.head()\n",
    "df.to_csv('cookbook_data.csv', index=False)"
   ]
  },
  {
   "cell_type": "markdown",
   "metadata": {},
   "source": [
    "### Remove the empty content (they are images in the book)"
   ]
  },
  {
   "cell_type": "code",
   "execution_count": 11,
   "metadata": {},
   "outputs": [],
   "source": [
    "#get the rows that contain ingredients and Directions since everything else is plain explanation\n",
    "df = df[df.text.str.contains('Ingredients|Directions')]"
   ]
  },
  {
   "cell_type": "markdown",
   "metadata": {},
   "source": [
    "we get now the elements we need from the text"
   ]
  },
  {
   "cell_type": "code",
   "execution_count": 12,
   "metadata": {},
   "outputs": [
    {
     "name": "stderr",
     "output_type": "stream",
     "text": [
      "100%|██████████| 130/130 [00:00<00:00, 5616.37it/s]\n"
     ]
    }
   ],
   "source": [
    "def extract_directions(text: str) -> str:\n",
    "    # List of separators to use in the search\n",
    "    separators = [\n",
    "        \"N u t r i t i o n\",\n",
    "        \"N o t e\",\n",
    "        \"N U T R I T I O N\",\n",
    "        \"N O T E\",\n",
    "        \"P R E P\",\n",
    "        \"T O T A L\",\n",
    "        \"V E G E T A R I A N\",\n",
    "        \"V E G A N\",\n",
    "        \"\\nIngredients\\n\",\n",
    "        \"R E A D Y\"\n",
    "    ]\n",
    "    \n",
    "    # Construct a regex pattern to match any of the separators\n",
    "    separator_pattern = r'|'.join([re.escape(separator) for separator in separators])\n",
    "    \n",
    "    # Remove the \"number.\\n\" -> \"number. \" since it is not useful\n",
    "    text = re.sub(r'(\\d+)\\.\\n', r'\\1. ', text)\n",
    "    \n",
    "    # Search for the section \"Directions\"\n",
    "    directions_match = re.search(r'Directions\\s*([\\s\\S]*?)\\s*(' + separator_pattern + r')', text, re.IGNORECASE)\n",
    "    if directions_match:\n",
    "        # Return the found directions\n",
    "        return directions_match.group(1).strip()\n",
    "    return None\n",
    "\n",
    "#we test it on the first 5 rows\n",
    "df['directions'] = df.text.progress_apply(extract_directions)"
   ]
  },
  {
   "cell_type": "code",
   "execution_count": 13,
   "metadata": {},
   "outputs": [
    {
     "name": "stderr",
     "output_type": "stream",
     "text": [
      "100%|██████████| 130/130 [00:00<00:00, 8357.11it/s]\n"
     ]
    }
   ],
   "source": [
    "def extract_ingredients(text: str) -> str:\n",
    "    # List of separators to use in the search\n",
    "    separators = [\n",
    "        \"N u t r i t i o n\",\n",
    "        \"N o t e\",\n",
    "        \"N U T R I T I O N\",\n",
    "        \"N O T E\",\n",
    "        \"P R E P\",\n",
    "        \"T O T A L\",\n",
    "        \"V E G E T A R I A N\",\n",
    "        \"V E G A N\",\n",
    "        \"R E A D Y\",\n",
    "        \"C L I C K\",\n",
    "    ]\n",
    "    \n",
    "    # Construct a regex pattern to match any of the separators\n",
    "    separator_pattern = r'|'.join([re.escape(separator) for separator in separators])\n",
    "    \n",
    "    # Remove the \"number.\\n\" -> \"number. \" since it is not useful\n",
    "    text = re.sub(r'(\\d+)\\.\\n', r'\\1. ', text)\n",
    "    \n",
    "    # Search for the section \"Directions\"\n",
    "    ingredients_match = re.search(r'\\nIngredients\\n\\s*([\\s\\S]*?)\\s*(' + separator_pattern + r')', text, re.IGNORECASE)\n",
    "    if ingredients_match:\n",
    "        # Return the found ingredients\n",
    "        return ingredients_match.group(1).strip()\n",
    "    return None\n",
    "\n",
    "\n",
    "df['ingredients'] = df.text.progress_apply(extract_ingredients)"
   ]
  },
  {
   "cell_type": "code",
   "execution_count": 14,
   "metadata": {},
   "outputs": [],
   "source": [
    "import re\n",
    "import pandas as pd\n",
    "\n",
    "# Function to extract prep time and ready in time\n",
    "def extract_prep_time_and_or_ready_in(text: str) -> dict:\n",
    "    prep_time = None\n",
    "    ready_in = None\n",
    "\n",
    "    # Find all occurrences of \"MINUTES\" and \"HOURS\" in uppercase along with their preceding numbers\n",
    "    times = re.findall(r'(\\d+)\\s*(MINUTES|HOUR)', text)\n",
    "\n",
    "    # Find the occurrence of \"P R E P  T I M E\" and \"R E A D Y  I N\"\n",
    "    prep_time_index = text.find(\"\\nP R E P  T I M E\")\n",
    "    ready_in_index = text.find(\"\\nR E A D Y  I N\")\n",
    "\n",
    "    if prep_time_index != -1 and ready_in_index != -1:\n",
    "        # Determine the order of prep time and ready in time based on their positions in the text\n",
    "        if prep_time_index < ready_in_index:\n",
    "            if len(times) > 0:\n",
    "                prep_time = times[0][0] + \" \" + times[0][1] if times[0][1] == \"MINUTES\" else None\n",
    "            if len(times) > 1:\n",
    "                ready_in = times[1][0] + \" \" + times[1][1]\n",
    "        else:\n",
    "            if len(times) > 0:\n",
    "                ready_in = times[0][0] + \" \" + times[0][1]\n",
    "            if len(times) > 1:\n",
    "                prep_time = times[1][0] + \" \" + times[1][1] if times[1][1] == \"MINUTES\" else None\n",
    "    elif prep_time_index != -1:\n",
    "        prep_time = times[0][0] + \" \" + times[0][1] if len(times) > 0 and times[0][1] == \"MINUTES\" else None\n",
    "    elif ready_in_index != -1:\n",
    "        ready_in = times[0][0] + \" \" + times[0][1] if len(times) > 0 else None\n",
    "\n",
    "    return {\n",
    "        \"prep_time\": prep_time,\n",
    "        \"ready_in\": ready_in\n",
    "    }\n",
    "\n",
    "\n",
    "# Apply the function to the dataframe\n",
    "df[['prep_time', 'ready_in']] = df['text'].apply(lambda x: pd.Series(extract_prep_time_and_or_ready_in(x)))\n"
   ]
  },
  {
   "cell_type": "code",
   "execution_count": 15,
   "metadata": {},
   "outputs": [
    {
     "data": {
      "text/html": [
       "<div>\n",
       "<style scoped>\n",
       "    .dataframe tbody tr th:only-of-type {\n",
       "        vertical-align: middle;\n",
       "    }\n",
       "\n",
       "    .dataframe tbody tr th {\n",
       "        vertical-align: top;\n",
       "    }\n",
       "\n",
       "    .dataframe thead th {\n",
       "        text-align: right;\n",
       "    }\n",
       "</style>\n",
       "<table border=\"1\" class=\"dataframe\">\n",
       "  <thead>\n",
       "    <tr style=\"text-align: right;\">\n",
       "      <th></th>\n",
       "      <th>page_number</th>\n",
       "      <th>page_char_count</th>\n",
       "      <th>page_word_count</th>\n",
       "      <th>page_sentence_count_raw</th>\n",
       "      <th>page_token_count</th>\n",
       "      <th>text</th>\n",
       "      <th>directions</th>\n",
       "      <th>ingredients</th>\n",
       "      <th>prep_time</th>\n",
       "      <th>ready_in</th>\n",
       "    </tr>\n",
       "  </thead>\n",
       "  <tbody>\n",
       "    <tr>\n",
       "      <th>0</th>\n",
       "      <td>17</td>\n",
       "      <td>2206</td>\n",
       "      <td>765</td>\n",
       "      <td>6</td>\n",
       "      <td>551.50</td>\n",
       "      <td>17\\nwww.gregdoucette.com\\nT H E  U L T I M A T...</td>\n",
       "      <td>1. Pre-heat the oven to 400°F (204°C).\\n2. Cho...</td>\n",
       "      <td>M A K E S  1  B A T C H .  S E R V I N G \\nS I...</td>\n",
       "      <td>20 MINUTES</td>\n",
       "      <td>1 HOUR</td>\n",
       "    </tr>\n",
       "    <tr>\n",
       "      <th>1</th>\n",
       "      <td>18</td>\n",
       "      <td>2205</td>\n",
       "      <td>616</td>\n",
       "      <td>8</td>\n",
       "      <td>551.25</td>\n",
       "      <td>18\\nwww.gregdoucette.com\\nT H E  U L T I M A T...</td>\n",
       "      <td>1. In a bowl, add egg whites, sweetener, cinna...</td>\n",
       "      <td>M A K E S  1  S E R V I N G\\n180g (¾ cup) egg ...</td>\n",
       "      <td>10 MINUTES</td>\n",
       "      <td>20 MINUTES</td>\n",
       "    </tr>\n",
       "    <tr>\n",
       "      <th>3</th>\n",
       "      <td>20</td>\n",
       "      <td>2736</td>\n",
       "      <td>653</td>\n",
       "      <td>3</td>\n",
       "      <td>684.00</td>\n",
       "      <td>20\\nwww.gregdoucette.com\\nT H E  U L T I M A T...</td>\n",
       "      <td>1. In a bowl, mix the filling ingredients with...</td>\n",
       "      <td>M A K E S  2  R O L L - U P S  ( 1  S E R V I ...</td>\n",
       "      <td>10 MINUTES</td>\n",
       "      <td>20 MINUTES</td>\n",
       "    </tr>\n",
       "    <tr>\n",
       "      <th>4</th>\n",
       "      <td>21</td>\n",
       "      <td>2019</td>\n",
       "      <td>556</td>\n",
       "      <td>8</td>\n",
       "      <td>504.75</td>\n",
       "      <td>21\\nwww.gregdoucette.com\\nT H E  U L T I M A T...</td>\n",
       "      <td>1. In a bowl, add egg whites, sweetener, cinna...</td>\n",
       "      <td>M A K E S  1  S E R V I N G\\n180g (¾ cup) egg ...</td>\n",
       "      <td>10 MINUTES</td>\n",
       "      <td>20 MINUTES</td>\n",
       "    </tr>\n",
       "    <tr>\n",
       "      <th>5</th>\n",
       "      <td>22</td>\n",
       "      <td>2312</td>\n",
       "      <td>816</td>\n",
       "      <td>8</td>\n",
       "      <td>578.00</td>\n",
       "      <td>22\\nwww.gregdoucette.com\\nT H E  U L T I M A T...</td>\n",
       "      <td>1. Pre-heat the oven to 400°F (204°C).\\n2. Cut...</td>\n",
       "      <td>M A K E S  1  B A T C H .  S E R V I N G \\nS I...</td>\n",
       "      <td>15 MINUTES</td>\n",
       "      <td>1 HOUR</td>\n",
       "    </tr>\n",
       "  </tbody>\n",
       "</table>\n",
       "</div>"
      ],
      "text/plain": [
       "   page_number  page_char_count  page_word_count  page_sentence_count_raw  \\\n",
       "0           17             2206              765                        6   \n",
       "1           18             2205              616                        8   \n",
       "3           20             2736              653                        3   \n",
       "4           21             2019              556                        8   \n",
       "5           22             2312              816                        8   \n",
       "\n",
       "   page_token_count                                               text  \\\n",
       "0            551.50  17\\nwww.gregdoucette.com\\nT H E  U L T I M A T...   \n",
       "1            551.25  18\\nwww.gregdoucette.com\\nT H E  U L T I M A T...   \n",
       "3            684.00  20\\nwww.gregdoucette.com\\nT H E  U L T I M A T...   \n",
       "4            504.75  21\\nwww.gregdoucette.com\\nT H E  U L T I M A T...   \n",
       "5            578.00  22\\nwww.gregdoucette.com\\nT H E  U L T I M A T...   \n",
       "\n",
       "                                          directions  \\\n",
       "0  1. Pre-heat the oven to 400°F (204°C).\\n2. Cho...   \n",
       "1  1. In a bowl, add egg whites, sweetener, cinna...   \n",
       "3  1. In a bowl, mix the filling ingredients with...   \n",
       "4  1. In a bowl, add egg whites, sweetener, cinna...   \n",
       "5  1. Pre-heat the oven to 400°F (204°C).\\n2. Cut...   \n",
       "\n",
       "                                         ingredients   prep_time    ready_in  \n",
       "0  M A K E S  1  B A T C H .  S E R V I N G \\nS I...  20 MINUTES      1 HOUR  \n",
       "1  M A K E S  1  S E R V I N G\\n180g (¾ cup) egg ...  10 MINUTES  20 MINUTES  \n",
       "3  M A K E S  2  R O L L - U P S  ( 1  S E R V I ...  10 MINUTES  20 MINUTES  \n",
       "4  M A K E S  1  S E R V I N G\\n180g (¾ cup) egg ...  10 MINUTES  20 MINUTES  \n",
       "5  M A K E S  1  B A T C H .  S E R V I N G \\nS I...  15 MINUTES      1 HOUR  "
      ]
     },
     "execution_count": 15,
     "metadata": {},
     "output_type": "execute_result"
    }
   ],
   "source": [
    "df.head()"
   ]
  },
  {
   "cell_type": "markdown",
   "metadata": {},
   "source": [
    "We identified that \\u00b0F is Fahrenheit (°F) and \\u00b0C is Celcius (°C) So we replace it. And we know it is only in the direction, because, why would the degree too cook be in the ingredient list ? "
   ]
  },
  {
   "cell_type": "markdown",
   "metadata": {},
   "source": [
    "We remove the \"ass\" in the dataset... because we are good boys."
   ]
  },
  {
   "cell_type": "markdown",
   "metadata": {},
   "source": [
    "In the cookbook, there are notes and links that would not be necessary, as such we will remove it.\n",
    "It starts with \"click to...\", we don't need it, so we remove it."
   ]
  },
  {
   "cell_type": "code",
   "execution_count": 16,
   "metadata": {},
   "outputs": [
    {
     "data": {
      "text/html": [
       "<div>\n",
       "<style scoped>\n",
       "    .dataframe tbody tr th:only-of-type {\n",
       "        vertical-align: middle;\n",
       "    }\n",
       "\n",
       "    .dataframe tbody tr th {\n",
       "        vertical-align: top;\n",
       "    }\n",
       "\n",
       "    .dataframe thead th {\n",
       "        text-align: right;\n",
       "    }\n",
       "</style>\n",
       "<table border=\"1\" class=\"dataframe\">\n",
       "  <thead>\n",
       "    <tr style=\"text-align: right;\">\n",
       "      <th></th>\n",
       "      <th>page_number</th>\n",
       "      <th>page_char_count</th>\n",
       "      <th>page_word_count</th>\n",
       "      <th>page_sentence_count_raw</th>\n",
       "      <th>page_token_count</th>\n",
       "      <th>text</th>\n",
       "      <th>directions</th>\n",
       "      <th>ingredients</th>\n",
       "      <th>prep_time</th>\n",
       "      <th>ready_in</th>\n",
       "    </tr>\n",
       "  </thead>\n",
       "  <tbody>\n",
       "    <tr>\n",
       "      <th>0</th>\n",
       "      <td>17</td>\n",
       "      <td>2206</td>\n",
       "      <td>765</td>\n",
       "      <td>6</td>\n",
       "      <td>551.50</td>\n",
       "      <td>17\\nwww.gregdoucette.com\\nT H E  U L T I M A T...</td>\n",
       "      <td>1. Pre-heat the oven to 400°F (204°C).\\n2. Cho...</td>\n",
       "      <td>M A K E S  1  B A T C H .  S E R V I N G \\nS I...</td>\n",
       "      <td>20 MINUTES</td>\n",
       "      <td>1 HOUR</td>\n",
       "    </tr>\n",
       "    <tr>\n",
       "      <th>1</th>\n",
       "      <td>18</td>\n",
       "      <td>2205</td>\n",
       "      <td>616</td>\n",
       "      <td>8</td>\n",
       "      <td>551.25</td>\n",
       "      <td>18\\nwww.gregdoucette.com\\nT H E  U L T I M A T...</td>\n",
       "      <td>1. In a bowl, add egg whites, sweetener, cinna...</td>\n",
       "      <td>M A K E S  1  S E R V I N G\\n180g (¾ cup) egg ...</td>\n",
       "      <td>10 MINUTES</td>\n",
       "      <td>20 MINUTES</td>\n",
       "    </tr>\n",
       "    <tr>\n",
       "      <th>3</th>\n",
       "      <td>20</td>\n",
       "      <td>2736</td>\n",
       "      <td>653</td>\n",
       "      <td>3</td>\n",
       "      <td>684.00</td>\n",
       "      <td>20\\nwww.gregdoucette.com\\nT H E  U L T I M A T...</td>\n",
       "      <td>1. In a bowl, mix the filling ingredients with...</td>\n",
       "      <td>M A K E S  2  R O L L - U P S  ( 1  S E R V I ...</td>\n",
       "      <td>10 MINUTES</td>\n",
       "      <td>20 MINUTES</td>\n",
       "    </tr>\n",
       "    <tr>\n",
       "      <th>4</th>\n",
       "      <td>21</td>\n",
       "      <td>2019</td>\n",
       "      <td>556</td>\n",
       "      <td>8</td>\n",
       "      <td>504.75</td>\n",
       "      <td>21\\nwww.gregdoucette.com\\nT H E  U L T I M A T...</td>\n",
       "      <td>1. In a bowl, add egg whites, sweetener, cinna...</td>\n",
       "      <td>M A K E S  1  S E R V I N G\\n180g (¾ cup) egg ...</td>\n",
       "      <td>10 MINUTES</td>\n",
       "      <td>20 MINUTES</td>\n",
       "    </tr>\n",
       "    <tr>\n",
       "      <th>5</th>\n",
       "      <td>22</td>\n",
       "      <td>2312</td>\n",
       "      <td>816</td>\n",
       "      <td>8</td>\n",
       "      <td>578.00</td>\n",
       "      <td>22\\nwww.gregdoucette.com\\nT H E  U L T I M A T...</td>\n",
       "      <td>1. Pre-heat the oven to 400°F (204°C).\\n2. Cut...</td>\n",
       "      <td>M A K E S  1  B A T C H .  S E R V I N G \\nS I...</td>\n",
       "      <td>15 MINUTES</td>\n",
       "      <td>1 HOUR</td>\n",
       "    </tr>\n",
       "  </tbody>\n",
       "</table>\n",
       "</div>"
      ],
      "text/plain": [
       "   page_number  page_char_count  page_word_count  page_sentence_count_raw  \\\n",
       "0           17             2206              765                        6   \n",
       "1           18             2205              616                        8   \n",
       "3           20             2736              653                        3   \n",
       "4           21             2019              556                        8   \n",
       "5           22             2312              816                        8   \n",
       "\n",
       "   page_token_count                                               text  \\\n",
       "0            551.50  17\\nwww.gregdoucette.com\\nT H E  U L T I M A T...   \n",
       "1            551.25  18\\nwww.gregdoucette.com\\nT H E  U L T I M A T...   \n",
       "3            684.00  20\\nwww.gregdoucette.com\\nT H E  U L T I M A T...   \n",
       "4            504.75  21\\nwww.gregdoucette.com\\nT H E  U L T I M A T...   \n",
       "5            578.00  22\\nwww.gregdoucette.com\\nT H E  U L T I M A T...   \n",
       "\n",
       "                                          directions  \\\n",
       "0  1. Pre-heat the oven to 400°F (204°C).\\n2. Cho...   \n",
       "1  1. In a bowl, add egg whites, sweetener, cinna...   \n",
       "3  1. In a bowl, mix the filling ingredients with...   \n",
       "4  1. In a bowl, add egg whites, sweetener, cinna...   \n",
       "5  1. Pre-heat the oven to 400°F (204°C).\\n2. Cut...   \n",
       "\n",
       "                                         ingredients   prep_time    ready_in  \n",
       "0  M A K E S  1  B A T C H .  S E R V I N G \\nS I...  20 MINUTES      1 HOUR  \n",
       "1  M A K E S  1  S E R V I N G\\n180g (¾ cup) egg ...  10 MINUTES  20 MINUTES  \n",
       "3  M A K E S  2  R O L L - U P S  ( 1  S E R V I ...  10 MINUTES  20 MINUTES  \n",
       "4  M A K E S  1  S E R V I N G\\n180g (¾ cup) egg ...  10 MINUTES  20 MINUTES  \n",
       "5  M A K E S  1  B A T C H .  S E R V I N G \\nS I...  15 MINUTES      1 HOUR  "
      ]
     },
     "execution_count": 16,
     "metadata": {},
     "output_type": "execute_result"
    }
   ],
   "source": [
    "# List of phrases to remove\n",
    "click_to_and_get_strings = [\n",
    "    \"CLICK TO ORDER ICON MEALS PROTEIN BREAD\",\n",
    "    \"CLICK TO ORDER LOW-CALORIE SYRUP\",\n",
    "    \"CLICK TO PURCHASE GUAR GUM\",\n",
    "    \"CLICK TO ORDER WALDEN FARMS SYRUP\",\n",
    "    \"CLICK TO PURCHASE A NINJA BLENDER\",\n",
    "    \"CLICK TO PURCHASE MUSCLE EGG\",\n",
    "    \"CLICK TO PURCHASE LIQUID MUSCLE\",\n",
    "    \"CLICK TO PURCHASE MISSION CARB BALANCE TORTILLA\",\n",
    "    \"CLICK TO PURCHASE YVES VEGGIE TOFU DOGS\",\n",
    "    \"CLICK TO PURCHASE PALMINI LOW-CARB LASAGNA\",\n",
    "    \"CLICK TO PURCHASE VEGGIE GROUND \\\"MEAT\\\"\",\n",
    "    \"CLICK TO PURCHASE SUGAR-FREE CHOCOLATE SAUCE\",\n",
    "    \"GET SUGAR-FREE CHOCOLATE JELL-O PUDDING\",\n",
    "    \"GET CHOCOLATE SUGAR-FREE JELLO PUDDING MIX\",\n",
    "    \"GET GUAR GUM\",\n",
    "    \"GET PB2 POWDERED PEANUT BUTTER\",\n",
    "    \"CLICK TO PURCHASE PB2 POWDERED PEANUT BUTTER\",\n",
    "    \"CLICK TO PURCHASE PUMPKIN PURÉE\",\n",
    "    \"CLICK TO PURCHASE PB2 (POWDERED PEANUT BUTTER)\",\n",
    "    \"CLICK TO PURCHASE FIBER ONE BROWNIE BAR\",\n",
    "    \"CLICK TO PURCHASE CHOCOLATE PB2 POWDER\",\n",
    "    \"GET BANANA SUGAR-FREE JELLO PUDDING MIX\",\n",
    "    \"CLICK TO PURCHASE WALDEN FARMS MAPLE WALNUT SYRUP\",\n",
    "    \"CLICK TO PURCHASE HERSHEY'S HEALTH SHELL TOPPING\",\n",
    "    \"CLICK TO PURCHASE SUGAR-FREE JELLO CHEESECAKE PUDDING POWDER\",\n",
    "    \"CLICK TO PURCHASE LIBBY’S 100% PURE PUMPKIN\",\n",
    "    \"CLICK TO PURCHASE SUGAR-FREE VANILLA PUDDING JELL-O\",\n",
    "    \"GET CHOCOLATE PB2 POWDERED PEANUT BUTTER\",\n",
    "]\n",
    "\n",
    "# Function to remove specific phrases from text\n",
    "def remove_phrases(text, phrases):\n",
    "    for phrase in phrases:\n",
    "        text = text.replace(phrase, '')\n",
    "    return text\n",
    "\n",
    "# Apply cleaning to all texts in the dataset\n",
    "df['text'] = df['text'].apply(lambda x: remove_phrases(x, click_to_and_get_strings))\n",
    "\n",
    "# Save the cleaned data to a new CSV file\n",
    "cleaned_file_path = 'cleaned_cookbook_data.csv'\n",
    "df.to_csv(cleaned_file_path, index=False)\n",
    "\n",
    "# Display the first few rows of the cleaned DataFrame\n",
    "df.head()\n"
   ]
  },
  {
   "cell_type": "code",
   "execution_count": 17,
   "metadata": {},
   "outputs": [],
   "source": [
    "#we replace de 1 hour by 60 minutes\n",
    "df['ready_in'] = df['ready_in'].str.replace('1 HOUR', '60 MINUTES')"
   ]
  },
  {
   "cell_type": "code",
   "execution_count": 18,
   "metadata": {},
   "outputs": [],
   "source": [
    "#we replace the column name ready_in by ready_in_minutes and prep_time by prep_time_minutes\n",
    "df.rename(columns={'ready_in': 'ready_in_minutes', 'prep_time': 'prep_time_minutes'}, inplace=True)\n",
    "\n",
    "#we remove the words MINUTES and HOUR\n",
    "df['ready_in_minutes'] = df['ready_in_minutes'].str.replace('MINUTES', '')\n",
    "df['prep_time_minutes'] = df['prep_time_minutes'].str.replace('MINUTES', '')\n",
    "#we remove useless spaces\n",
    "df['ready_in_minutes'] = df['ready_in_minutes'].str.strip()\n",
    "df['prep_time_minutes'] = df['prep_time_minutes'].str.strip()"
   ]
  },
  {
   "cell_type": "code",
   "execution_count": 19,
   "metadata": {},
   "outputs": [],
   "source": [
    "#we drop the useless columns LIKE page_number, page_char_count, page_word_count, page_sentence_count_raw, page_token_count\n",
    "df.drop(columns=['text','page_char_count', 'page_word_count', 'page_sentence_count_raw', 'page_token_count'], inplace=True)"
   ]
  },
  {
   "cell_type": "code",
   "execution_count": 20,
   "metadata": {},
   "outputs": [
    {
     "data": {
      "text/html": [
       "<div>\n",
       "<style scoped>\n",
       "    .dataframe tbody tr th:only-of-type {\n",
       "        vertical-align: middle;\n",
       "    }\n",
       "\n",
       "    .dataframe tbody tr th {\n",
       "        vertical-align: top;\n",
       "    }\n",
       "\n",
       "    .dataframe thead th {\n",
       "        text-align: right;\n",
       "    }\n",
       "</style>\n",
       "<table border=\"1\" class=\"dataframe\">\n",
       "  <thead>\n",
       "    <tr style=\"text-align: right;\">\n",
       "      <th></th>\n",
       "      <th>page_number</th>\n",
       "      <th>directions</th>\n",
       "      <th>ingredients</th>\n",
       "      <th>prep_time_minutes</th>\n",
       "      <th>ready_in_minutes</th>\n",
       "    </tr>\n",
       "  </thead>\n",
       "  <tbody>\n",
       "    <tr>\n",
       "      <th>0</th>\n",
       "      <td>17</td>\n",
       "      <td>1. Pre-heat the oven to 400°F (204°C).\\n2. Cho...</td>\n",
       "      <td>M A K E S  1  B A T C H .  S E R V I N G \\nS I...</td>\n",
       "      <td>20</td>\n",
       "      <td>60</td>\n",
       "    </tr>\n",
       "    <tr>\n",
       "      <th>1</th>\n",
       "      <td>18</td>\n",
       "      <td>1. In a bowl, add egg whites, sweetener, cinna...</td>\n",
       "      <td>M A K E S  1  S E R V I N G\\n180g (¾ cup) egg ...</td>\n",
       "      <td>10</td>\n",
       "      <td>20</td>\n",
       "    </tr>\n",
       "    <tr>\n",
       "      <th>3</th>\n",
       "      <td>20</td>\n",
       "      <td>1. In a bowl, mix the filling ingredients with...</td>\n",
       "      <td>M A K E S  2  R O L L - U P S  ( 1  S E R V I ...</td>\n",
       "      <td>10</td>\n",
       "      <td>20</td>\n",
       "    </tr>\n",
       "    <tr>\n",
       "      <th>4</th>\n",
       "      <td>21</td>\n",
       "      <td>1. In a bowl, add egg whites, sweetener, cinna...</td>\n",
       "      <td>M A K E S  1  S E R V I N G\\n180g (¾ cup) egg ...</td>\n",
       "      <td>10</td>\n",
       "      <td>20</td>\n",
       "    </tr>\n",
       "    <tr>\n",
       "      <th>5</th>\n",
       "      <td>22</td>\n",
       "      <td>1. Pre-heat the oven to 400°F (204°C).\\n2. Cut...</td>\n",
       "      <td>M A K E S  1  B A T C H .  S E R V I N G \\nS I...</td>\n",
       "      <td>15</td>\n",
       "      <td>60</td>\n",
       "    </tr>\n",
       "  </tbody>\n",
       "</table>\n",
       "</div>"
      ],
      "text/plain": [
       "   page_number                                         directions  \\\n",
       "0           17  1. Pre-heat the oven to 400°F (204°C).\\n2. Cho...   \n",
       "1           18  1. In a bowl, add egg whites, sweetener, cinna...   \n",
       "3           20  1. In a bowl, mix the filling ingredients with...   \n",
       "4           21  1. In a bowl, add egg whites, sweetener, cinna...   \n",
       "5           22  1. Pre-heat the oven to 400°F (204°C).\\n2. Cut...   \n",
       "\n",
       "                                         ingredients prep_time_minutes  \\\n",
       "0  M A K E S  1  B A T C H .  S E R V I N G \\nS I...                20   \n",
       "1  M A K E S  1  S E R V I N G\\n180g (¾ cup) egg ...                10   \n",
       "3  M A K E S  2  R O L L - U P S  ( 1  S E R V I ...                10   \n",
       "4  M A K E S  1  S E R V I N G\\n180g (¾ cup) egg ...                10   \n",
       "5  M A K E S  1  B A T C H .  S E R V I N G \\nS I...                15   \n",
       "\n",
       "  ready_in_minutes  \n",
       "0               60  \n",
       "1               20  \n",
       "3               20  \n",
       "4               20  \n",
       "5               60  "
      ]
     },
     "execution_count": 20,
     "metadata": {},
     "output_type": "execute_result"
    }
   ],
   "source": [
    "df.head()"
   ]
  },
  {
   "cell_type": "code",
   "execution_count": 21,
   "metadata": {},
   "outputs": [],
   "source": [
    "df.to_csv('P_D_I_P_R.csv', index=False)"
   ]
  },
  {
   "cell_type": "markdown",
   "metadata": {},
   "source": [
    "We completed our first database. That contains the directions of the recipe, along with the ingredients, the page number, the prep time and the ready in time. Now we will focus on creating a second database that contains the recipes title, along with the macronutrients and the page."
   ]
  },
  {
   "cell_type": "markdown",
   "metadata": {},
   "source": [
    "##  P_T_C_F_C_F_P database creation\n",
    "\n",
    "We create a dataset with the following columns:\n",
    "* The page Number\n",
    "* The title of the recipe\n",
    "* The calories\n",
    "* The Fat content\n",
    "* the Carb content\n",
    "* The fiber content\n",
    "* The Protein content\n",
    "\n",
    "We start of by getting the associated page."
   ]
  },
  {
   "cell_type": "code",
   "execution_count": 22,
   "metadata": {},
   "outputs": [
    {
     "data": {
      "text/plain": [
       "[{'page_number': 187,\n",
       "  'page_char_count': 1625,\n",
       "  'page_word_count': 142,\n",
       "  'page_sentence_count_raw': 2,\n",
       "  'page_token_count': 406.25,\n",
       "  'text': '187\\nCopyright Coach Greg Inc. 2020\\nwww.gregdoucette.com\\nBack to Table of Contents\\nMaster Recipe Nutrition Table\\nPage\\nRecipe\\nCalories \\nPer \\nServing\\nFat (g) \\nper \\nserving\\nCarbs \\n(g) per \\nserving\\nFiber \\n(g) per \\nserving\\nProtein (g) \\nper serving\\nVegan\\nVegetarian\\n17\\nAnabolic Apple Pie Breakfast Bake - \\nEntire Batch\\n3350\\n17\\n464\\n46\\n265\\nY\\n17\\nAnabolic Apple Pie Breakfast Bake - \\nLarge Serving\\n560\\n3\\n77\\n8\\n44\\nY\\n17\\nAnabolic Apple Pie Breakfast Bake - Small \\nServing\\n280\\n1\\n39\\n4\\n22\\nY\\n18\\nAnabolic French Toast - Per Serving\\n270\\n1\\n30\\n6\\n28\\nY\\n18\\nAnabolic French Toast - Large\\n400\\n2\\n48\\n9\\n45\\nY\\n20\\nBanana \"No\"Tella French Toast Roll-Ups \\n- Small\\n340\\n4\\n54\\n5\\n28\\nY\\n20\\nBanana \"No\"Tella French Toast Roll-Ups - \\nMedium\\n680\\n8\\n93\\n10\\n57\\nY\\n20\\nBanana \"No\"Tella French Toast Roll-Ups \\n- Large\\n760\\n9\\n96\\n9\\n60\\nY\\n21\\nBlueberry French Toast\\n310\\n3\\n47\\n3\\n24\\nY\\n21\\nBlueberry French Toast - Large\\n440\\n4\\n67\\n5\\n35\\nY\\n22\\nMEGA Peach French Toast Bake - Total\\n2810\\n20\\n446\\n46\\n223\\nY\\n22\\nMEGA Peach French Toast Bake - Large \\nServing\\n470\\n3\\n74\\n8\\n37\\nY\\n22\\nMEGA Peach French Toast Bake - Small \\nServing\\n235\\n2\\n37\\n4\\n19\\nY\\n23\\nProtein Bread French Toast\\n375\\n10\\n40\\n4\\n43\\nY\\n23\\nProtein Bread French Toast\\n190\\n5\\n20\\n2\\n22\\nY\\n25\\nEgg White Avocado Rice Cakes\\n390\\n10\\n41\\n7\\n32\\nY\\n25\\nEgg White Avocado Rice Cakes\\n130\\n3\\n14\\n2\\n11\\nY\\n26\\nEgg White Avocado Toast - Regular Per \\nServing\\n430\\n10\\n50\\n11\\n42\\nY\\n26\\nEgg White Avocado Toast - Large\\n600\\n21\\n59\\n11\\n51\\nY\\n27\\nEgg White Bites\\n410\\n1\\n23\\n4\\n72\\nY\\n28\\nFire-Roasted Veggie Omelette\\n340\\n10\\n17\\n5\\n46\\nY\\n29\\nHam & Cheese Omelette\\n295\\n2\\n22\\n5\\n44\\n30\\nHam, Spinach, and Feta Omelette\\n265\\n6\\n12\\n3\\n41\\n31\\nTex Mex Omelette\\n415\\n8\\n28\\n5\\n53\\n32\\nWhole Egg Avocado Toast\\n550\\n21\\n50\\n10\\n44\\nY\\n'},\n",
       " {'page_number': 188,\n",
       "  'page_char_count': 1802,\n",
       "  'page_word_count': 164,\n",
       "  'page_sentence_count_raw': 2,\n",
       "  'page_token_count': 450.5,\n",
       "  'text': '188\\nCopyright Coach Greg Inc. 2020\\nwww.gregdoucette.com\\nBack to Table of Contents\\nPage\\nRecipe\\nCalories \\nPer \\nServing\\nFat (g) \\nper \\nserving\\nCarbs \\n(g) per \\nserving\\nFiber \\n(g) per \\nserving\\nProtein (g) \\nper serving\\nVegan\\nVegetarian\\n34\\n“No”tella Berries n\\' Cream Crepe \\nExplosion - Small, 2 crepes\\n210\\n5\\n19\\n5\\n23\\nY\\n34\\n“No”tella Berries n\\' Cream Crepe \\nExplosion - Medium, 4 crepes\\n420\\n10\\n39\\n9\\n47\\nY\\n34\\n“No”tella Berries n\\' Cream Crepe \\nExplosion - Large, 6 crepes\\n625\\n15\\n58\\n14\\n70\\nY\\n35\\n\"No\"tella Fruity Crepe Explosion - Small, \\n2 crepes\\n180\\n5\\n17\\n4\\n17\\nY\\n35\\n\"No\"tella Fruity Crepe Explosion - \\nMedium, 4 crepes\\n360\\n10\\n35\\n8\\n34\\nY\\n35\\n\"No\"tella Fruity Crepe Explosion - Large, \\n6 crepes\\n535\\n15\\n52\\n12\\n52\\nY\\n37\\nApple Protein Pancakes - Total\\n820\\n6\\n127\\n21\\n73\\nY\\n37\\nApple Protein Pancakes - Per Serving\\n164\\n1\\n25\\n4\\n15\\nY\\n38\\nBanana Chocolate Pancakes (Batch, 4 \\nservings)\\n720\\n8\\n106\\n15\\n58\\nY\\n38\\nBanana Chocolate Pancakes (Single \\nServing)\\n180\\n2\\n27\\n4\\n15\\nY\\n39\\nBanana Protein Pancakes - Total\\n900\\n5\\n135\\n16\\n80\\nY\\n39\\nBanana Protein Pancakes - Per Serving\\n180\\n1\\n27\\n3\\n16\\nY\\n40\\nCheese & Chive Cauliflower Protein \\nPancakes\\n740\\n6\\n75\\n20\\n90\\nY\\n40\\nCheese & Chive Cauliflower Protein \\nPancakes\\n123\\n1\\n13\\n3\\n15\\nY\\n41\\nDouble Chocolate Chip Pancakes - Total\\n785\\n21\\n89\\n23\\n68\\nY\\n41\\nDouble Chocolate Chip Pancakes - Per \\nServing\\n265\\n7\\n30\\n8\\n23\\nY\\n42\\nFrench Toast Blueberry Pancakes\\n330\\n4\\n40\\n4\\n37\\nY\\n42\\nFrench Toast Blueberry Pancakes - light \\nversion\\n280\\n3\\n33\\n4\\n31\\nY\\n43\\nPumpkin Apple Pancakes - Total\\n860\\n8\\n126\\n29\\n68\\nY\\n43\\nPumpkin Apple Pancakes - Per Serving\\n140\\n1\\n21\\n5\\n11\\nY\\n44\\nQuick & Easy Pancakes - Total\\n510\\n2\\n26\\n0\\n94\\nY\\n44\\nQuick & Easy Pancakes - Per Pancake\\n255\\n1\\n13\\n0\\n47\\nY\\n45\\nStrawberry Cheesecake Protein Pancakes \\n(low calorie) - Per Batch\\n855\\n8\\n132\\n40\\n74\\nY\\n45\\nStrawberry Cheesecake Protein Pancakes \\n(low calorie) - Per Serving\\n285\\n3\\n44\\n13\\n25\\nY\\n'},\n",
       " {'page_number': 189,\n",
       "  'page_char_count': 1804,\n",
       "  'page_word_count': 158,\n",
       "  'page_sentence_count_raw': 2,\n",
       "  'page_token_count': 451.0,\n",
       "  'text': '189\\nCopyright Coach Greg Inc. 2020\\nwww.gregdoucette.com\\nBack to Table of Contents\\nPage\\nRecipe\\nCalories \\nPer \\nServing\\nFat (g) \\nper \\nserving\\nCarbs \\n(g) per \\nserving\\nFiber \\n(g) per \\nserving\\nProtein (g) \\nper serving\\nVegan\\nVegetarian\\n47\\nVanilla Chocolate Chip Pancakes - Total (2 \\nServings)\\n700\\n19\\n77\\n18\\n64\\nY\\n47\\nVanilla Chocolate Chip Pancakes - Per \\nServing\\n350\\n10\\n39\\n9\\n32\\nY\\n49\\nPumpkin Spice Loaf - Batch\\n700\\n20\\n70\\n18\\n68\\nY\\n49\\nPumpkin Spice Loaf - Per Serving\\n140\\n5\\n14\\n4\\n14\\nY\\n49\\nBlueberry Banana Protein Loaf (Batch, 4 \\nservings)\\n710\\n5\\n96\\n10\\n77\\nY\\n49\\nBlueberry Banana Protein Loaf (Single \\nserving)\\n180\\n1\\n24\\n3\\n19\\nY\\n51\\nApple Cinnamon Muffins - Total\\n600\\n6\\n89\\n12\\n53\\nY\\nY\\n51\\nApple Cinnamon Muffins - Per Muffin\\n100\\n1\\n15\\n2\\n9\\nY\\nY\\n52\\nBanana Chocolate Protein Muffins - Total\\n1275\\n13\\n151\\n15\\n149\\nY\\n52\\nBanana Chocolate Protein Muffins - Per \\nMuffin\\n160\\n2\\n19\\n2\\n19\\nY\\n53\\nBlueberry Protein Muffins (Batch - 10 \\nservings)\\n1620\\n23\\n240\\n33\\n119\\nY\\n53\\nBlueberry Protein Muffins (Per Serving)\\n160\\n2\\n24\\n3\\n12\\nY\\n54\\nCarrot Apple Muffins (Batch - 10 servings)\\n1535\\n21\\n234\\n61\\n131\\nY\\n54\\nCarrot Apple Muffins (Per Serving)\\n155\\n2\\n23\\n6\\n13\\nY\\n55\\nChocolate Banana Muffins - 10 servings\\n1580\\n41\\n206\\n27\\n131\\nY\\n55\\nChocolate Banana Muffins - Per Serving\\n160\\n4\\n21\\n3\\n13\\nY\\n56\\nFrosted Peanut Butter Protein Muffins - \\nTotal\\n815\\n13\\n95\\n17\\n86\\nY\\n56\\nFrosted Peanut Butter Protein Muffins - \\nPer Serving\\n205\\n3\\n24\\n4\\n22\\nY\\n57\\nPumpkin Protein Muffins - Batch\\n930\\n36\\n57\\n16\\n146\\nY\\n57\\nPumpkin Protein Muffins - Per Muffin\\n120\\n5\\n7\\n2\\n18\\nY\\n58\\nPumpkin Protein Muffins - Per Serving\\n130\\n2\\n7\\n3\\n21\\nY\\n59\\nStrawberry Peach Protein Muffins - Per \\nBatch\\n1010\\n13\\n135\\n4\\n91\\nY\\n59\\nStrawberry Peach Protein Muffins - Per \\nMuffin\\n85\\n1\\n11\\n1\\n7\\nY\\n60\\nSunshine Morning Muffins with frosting - \\nBatch\\n1520\\n22\\n188\\n29\\n151\\nY\\n60\\nSunshine Morning Muffins with frosting - \\nPer Muffin\\n380\\n6\\n47\\n7\\n38\\nY\\n'},\n",
       " {'page_number': 190,\n",
       "  'page_char_count': 1710,\n",
       "  'page_word_count': 146,\n",
       "  'page_sentence_count_raw': 2,\n",
       "  'page_token_count': 427.5,\n",
       "  'text': '190\\nCopyright Coach Greg Inc. 2020\\nwww.gregdoucette.com\\nBack to Table of Contents\\nPage\\nRecipe\\nCalories \\nPer \\nServing\\nFat (g) \\nper \\nserving\\nCarbs \\n(g) per \\nserving\\nFiber \\n(g) per \\nserving\\nProtein (g) \\nper serving\\nVegan\\nVegetarian\\n60\\nSunshine Morning Muffins without \\nfrosting - Batch\\n1440\\n22\\n184\\n29\\n136\\nY\\n60\\nSunshine Morning Muffins without \\nfrosting - Per Muffin\\n360\\n6\\n46\\n7\\n34\\nY\\n63\\nSouthwest Quesadilla - Chicken\\n365\\n8\\n60\\n35\\n36\\n63\\nSouthwest Quesadilla - Chicken (Lite)\\n260\\n5\\n37\\n20\\n27\\n63\\nSouthwest Quesadilla - Turkey\\n370\\n10\\n60\\n35\\n33\\n63\\nSouthwest Quesadilla - Turkey (Lite)\\n260\\n7\\n37\\n20\\n24\\n63\\nSouthwest Quesadilla - Beef\\n360\\n9\\n60\\n35\\n32\\n63\\nSouthwest Quesadilla - Beef (Lite)\\n255\\n6\\n37\\n20\\n23\\n64\\nGrilled Spicy Peanut Chicken Satay \\nSkewers - Batch Servings\\n1425\\n20\\n101\\n29\\n210\\n66\\nProtein \"Chips and Guacamole\"\\n210\\n11\\n28\\n8\\n12\\nY\\nY\\n66\\nProtein \"Chips and Guacamole\"\\n210\\n11\\n28\\n8\\n12\\nY\\nY\\n68\\nSmoked Salmon Pinwheels\\n200\\n8\\n18\\n10\\n18\\n70\\nHot Hamburg\\n630\\n19\\n53\\n10\\n58\\n70\\nHam and Cheese - Regular Ass White \\nBread\\n290\\n6\\n34\\n2\\n24\\n71\\nChicken Burger\\n660\\n14\\n52\\n12\\n76\\n71\\nPB2 and Jam Sandwich - ICON\\n445\\n12\\n48\\n8\\n38\\nY\\n71\\nPB2 and Jam Sandwich - Ezekiel\\n289\\n3\\n48\\n10\\n18\\nY\\n71\\nPB2 and Jam Sandwich - Regular Ass \\nWhite Bread\\n283\\n4\\n48\\n6\\n14\\nY\\n73\\nFrench Toast Grilled Cheese & Egg \\nSandwich (Triple-Stack)\\n670\\n11\\n57\\n2\\n75\\nY\\n73\\nFrench Toast Grilled Cheese & Egg \\nSandwich (Light)\\n295\\n2\\n35\\n2\\n32\\nY\\n74\\nGrilled Cheese Sandwich - Regular Ass \\nWhite Bread\\n250\\n6\\n34\\n2\\n18\\nY\\n74\\nGrilled Cheese Sandwich - Protein Bread\\n365\\n14\\n34\\n4\\n38\\nY\\n75\\nHam & Cheese Sandwich on Protein \\nBread\\n405\\n14\\n34\\n4\\n48\\n76\\nSloppy Greg Sandwich - Total\\n1800\\n36\\n226\\n39\\n124\\n76\\nSloppy Greg Sandwich - Per Serving\\n450\\n9\\n57\\n10\\n31\\n76\\nVeggie Sloppy Greg Sandwich - Total\\n1675\\n22\\n231\\n40\\n131\\nY\\nY\\n'},\n",
       " {'page_number': 191,\n",
       "  'page_char_count': 1749,\n",
       "  'page_word_count': 177,\n",
       "  'page_sentence_count_raw': 2,\n",
       "  'page_token_count': 437.25,\n",
       "  'text': \"191\\nCopyright Coach Greg Inc. 2020\\nwww.gregdoucette.com\\nBack to Table of Contents\\nPage\\nRecipe\\nCalories \\nPer \\nServing\\nFat (g) \\nper \\nserving\\nCarbs \\n(g) per \\nserving\\nFiber \\n(g) per \\nserving\\nProtein (g) \\nper serving\\nVegan\\nVegetarian\\n76\\nVeggie Sloppy Greg Sandwich - Per \\nServing\\n420\\n6\\n58\\n10\\n33\\nY\\nY\\n78\\nVegan Meatball Sandwich on Regular Ass \\nBread\\n310\\n7\\n43\\n6\\n21\\nY\\nY\\n78\\nVegan Meatball Sandwich on Protein \\nBread\\n430\\n15\\n43\\n8\\n45\\nY\\nY\\n79\\nVeggie Pigs in a Blanket (Hot Dog)\\n170\\n3\\n23\\n1\\n14\\nY\\n79\\nCheesy Veggie Pigs in a Blanket (Cheese \\nDog)\\n200\\n2\\n24\\n1\\n18\\nY\\n80\\nChicken/Tuna, Lettuce, Tomato Sandwich \\n- Regular Ass White Bread\\n275\\n4\\n38\\n3\\n25\\n80\\nChicken/Tuna, Lettuce & Tomato on \\nProtein Bread\\n445\\n12\\n38\\n5\\n45\\n80\\nChicken/Tuna, Lettuce & Tomato -  \\nEzekiel Bread Version\\n280\\n3\\n38\\n7\\n25\\n81\\nPowdered Peanut Butter and Jam \\nSandwich on Protein Bread\\n390\\n12\\n48\\n8\\n38\\nY\\n81\\nPowdered Peanut Butter and Jam \\nSandwich - Regular Ass White Bread\\n285\\n4\\n48\\n6\\n14\\nY\\n81\\nGrilled Chicken Wrap with Mango Relish \\n- 1 Wrap\\n220\\n4\\n30\\n16\\n22\\n83\\nVeggie Bologna Sandwich\\n325\\n8\\n39\\n5\\n23\\nY\\n85\\nChicken or Turkey on Joseph's Lavash \\nWrap\\n410\\n11\\n35\\n9\\n45\\n85\\nChicken or Turkey on Joseph's Lavash \\nWrap (Light Version)\\n350\\n5-8\\n31\\n8\\n39-43\\n85\\nExtra-Lean Deli Meat on Joseph's Lavash \\nWrap\\n380\\n8\\n31\\n9\\n39\\n85\\nGreg's Diet Wrap: Extra-Lean Deli Meat \\non Joseph's Lavash Wrap\\n320\\n5-8\\n31\\n8\\n35-39\\n85\\nGround Meat on Joseph's Lavash Wrap \\n(Light Version)\\n340\\n7-10\\n31\\n8\\n45\\n85\\nEgg Whites on Joseph's Lavash\\n370\\n9\\n35\\n9\\n41\\nY\\n85\\nEgg Whites on Joseph's Lavash (Light \\nVersion)\\n310\\n3-6\\n31\\n8\\n35-39\\n85\\nChicken or Turkey on Flatout Light OR \\nLa Tortilla OR 90-110 Calorie Wrap of \\nChoice\\n260-\\n280\\n6\\n21\\n12-15\\n27\\n85\\nExtra-Lean Deli Meat on Flatout Light \\nOR La Tortilla OR 90-110 Calorie Wrap of \\nChoice\\n240-\\n260\\n6\\n21\\n12-15\\n26\\n\"},\n",
       " {'page_number': 192,\n",
       "  'page_char_count': 1820,\n",
       "  'page_word_count': 187,\n",
       "  'page_sentence_count_raw': 2,\n",
       "  'page_token_count': 455.0,\n",
       "  'text': '192\\nCopyright Coach Greg Inc. 2020\\nwww.gregdoucette.com\\nBack to Table of Contents\\nPage\\nRecipe\\nCalories \\nPer \\nServing\\nFat (g) \\nper \\nserving\\nCarbs \\n(g) per \\nserving\\nFiber \\n(g) per \\nserving\\nProtein (g) \\nper serving\\nVegan\\nVegetarian\\n85\\nGround Meat on Flatout Light OR La \\nTortilla OR 90-110 Calorie Wrap of Choice\\n265-\\n285\\n8\\n21\\n12-15\\n26\\n85\\nEgg Whites on Flatout Light OR La Tortilla \\nOR 90-110 Calorie Wrap of Choice\\n235-\\n255\\n5\\n21\\n12-15\\n26\\nY\\n86\\nGrilled Chicken Wrap with Mango Relish \\n- 2 Wraps\\n440\\n8\\n61\\n31\\n44\\n87\\nWhite Fish with Coleslaw Tacos - Total\\n840\\n17\\n121\\n26\\n63\\n87\\nWhite Fish with Coleslaw Tacos - Per Taco\\n420\\n9\\n60\\n13\\n32\\n89\\nDeli Meat Rice Cake\\n410\\n7\\n41\\n1\\n35\\n90\\nSpicy Shredded Chicken on Rice Cakes\\n375\\n8\\n35\\n1\\n25\\n91\\nVeggie Meat Rice Cake Sandwich\\n90\\n1\\n12\\n1\\n6\\nY\\nY\\n92\\nSmoked Salmon Rice Cake Sandwich\\n120\\n4\\n10\\n1\\n8\\n93\\nOpen-Face Tuna Rice Cakes\\n330\\n5\\n35\\n1\\n35\\n96\\nCauliflower PIzza Crust - Per 2 Meat \\nLovers Pizza\\n600\\n6\\n83\\n13\\n52\\n96\\nCauliflower Pizza Crust - Per 2 Veggie \\nPizzas\\n595\\n5\\n93\\n17\\n44\\nY\\n96\\nCauliflower Pizza Crust - Total\\n800\\n5\\n128\\n21\\n56\\nY\\n96\\nCauliflower Pizza Crust - Per Crust\\n200\\n1\\n32\\n5\\n14\\nY\\n97\\nEgg White Wrap & Cauliflower PIzza \\nCrust - Per 2 Meat Lovers Pizza\\n500\\n5\\n68\\n11\\n46\\n97\\nEgg White Wrap & Cauliflower Pizza Crust \\n- Per 2 Veggie Pizzas\\n500\\n4\\n78\\n13\\n39\\nY\\n97\\nEgg White Wrap & Cauliflower Pizza Crust \\n- Total\\n955\\n8\\n153\\n28\\n65\\nY\\n97\\nEgg White Wrap & Cauliflower Pizza Crust \\n- Per Crust\\n160\\n1\\n46\\n5\\n11\\nY\\n98\\nFLATOUT Pizza with Bison\\n310\\n6\\n38\\n4\\n27\\n99\\n\"Golden Home\" Protein Pizza With Beef\\n275\\n4\\n39\\n5\\n20\\n101\\nAnabolic Meaty Lasagna Light - Batch\\n2060\\n62\\n150\\n31\\n181\\n101\\nAnabolic Meaty Lasagna Light - Per \\nServing\\n355\\n10\\n25\\n5\\n30\\n102\\nAnabolic Meaty Lasagna - Batch\\n3200\\n74\\n406\\n39\\n209\\n102\\nAnabolic Meaty Lasagna - Per Serving\\n535\\n12\\n68\\n6\\n35\\n103\\nAnabolic Veggie Lasagna Palmini Version \\n- Batch\\n1670\\n21\\n165\\n40\\n190\\nY\\n'},\n",
       " {'page_number': 193,\n",
       "  'page_char_count': 1790,\n",
       "  'page_word_count': 173,\n",
       "  'page_sentence_count_raw': 2,\n",
       "  'page_token_count': 447.5,\n",
       "  'text': '193\\nCopyright Coach Greg Inc. 2020\\nwww.gregdoucette.com\\nBack to Table of Contents\\nPage\\nRecipe\\nCalories \\nPer \\nServing\\nFat (g) \\nper \\nserving\\nCarbs \\n(g) per \\nserving\\nFiber \\n(g) per \\nserving\\nProtein (g) \\nper serving\\nVegan\\nVegetarian\\n103\\nAnabolic Veggie Lasagna Palmini Version \\n- Per Serving\\n280\\n4\\n27\\n7\\n32\\nY\\n104\\nAnabolic Veggie Lasagna Regular Version \\n- Batch\\n2810\\n33\\n421\\n48\\n218\\nY\\n104\\nAnabolic Veggie Lasagna Regular Version \\n- Per Serving\\n470\\n6\\n70\\n8\\n36\\nY\\n105\\nBaked Lemon Garlic Salmon with \\nAsparagus - Batch\\n2560\\n120\\n94\\n25\\n246\\n105\\nBaked Lemon Garlic Salmon with \\nAsparagus - Per Serving\\n425\\n20\\n16\\n4\\n41\\n107\\nChicken Cacciatore - 4 servings\\n1020\\n14\\n108\\n29\\n117\\n107\\nChicken Cacciatore - 1 serving\\n255\\n4\\n27\\n7\\n29\\n108\\nChicken Nugget Bites\\n500\\n12\\n5\\n1\\n92\\n110\\nCitrus Tilapia, Shrimp & Vegetables - \\nBatch\\n1880\\n26\\n148\\n41\\n285\\n110\\nCitrus Tilapia, Shrimp & Vegetables - Per \\nServing\\n380\\n5\\n30\\n8\\n57\\n111\\nNuPasta Chicken Stirfry - Small\\n320\\n6\\n33\\n15\\n33\\n111\\nNuPasta Chicken Stirfry - Large\\n555\\n9\\n48\\n22\\n65\\n113\\nPedon MORE THAN Pasta with Chicken & \\nTomato Sauce (Small)\\n325\\n5\\n43\\n7\\n27\\n113\\nPedon MORE THAN Pasta with Chicken & \\nTomato Sauce (Medium)\\n515\\n7\\n71\\n12\\n45\\n113\\nPedon MORE THAN Pasta with Chicken & \\nTomato Sauce (Large)\\n585\\n7\\n83\\n14\\n48\\n113\\nPedon MORE THAN Pasta with Beef & \\nTomato Sauce (Small)\\n320\\n6\\n43\\n7\\n24\\n113\\nPedon MORE THAN Pasta with Beef & \\nTomato Sauce (Medium)\\n510\\n8\\n71\\n12\\n39\\n113\\nPedon MORE THAN Pasta with Beef & \\nTomato Sauce (Large)\\n580\\n9\\n83\\n14\\n42\\n115\\nProsciutto-Wrapped Chicken & Veggies - \\nPer Serving\\n210\\n4\\n11\\n5\\n35\\n115\\nProsciutto-Wrapped Chicken & Veggies - \\nTotal\\n840\\n16\\n44\\n20\\n140\\n116\\nSpicy Pork Chile Stew - Total\\n1010\\n24\\n67\\n14\\n132\\n116\\nSpicy Pork Chile Stew - Per Serving\\n250\\n6\\n17\\n4\\n33\\n118\\nSwedish Meatballs - Total Nutrition\\n2150\\n78\\n168\\n5\\n194\\n118\\nSwedish Meatballs - Per Serving\\n95\\n3\\n7\\n0\\n8\\n'},\n",
       " {'page_number': 194,\n",
       "  'page_char_count': 1822,\n",
       "  'page_word_count': 154,\n",
       "  'page_sentence_count_raw': 2,\n",
       "  'page_token_count': 455.5,\n",
       "  'text': '194\\nCopyright Coach Greg Inc. 2020\\nwww.gregdoucette.com\\nBack to Table of Contents\\nPage\\nRecipe\\nCalories \\nPer \\nServing\\nFat (g) \\nper \\nserving\\nCarbs \\n(g) per \\nserving\\nFiber \\n(g) per \\nserving\\nProtein (g) \\nper serving\\nVegan\\nVegetarian\\n120\\nCauliflower Mashed Potatoes\\n150\\n0\\n33\\n8\\n5\\nY\\n120\\nCauliflower Mashed Potatoes - LITE\\n90\\n0\\n19\\n4\\n3\\nY\\n121\\nCauliflower Rice\\n175\\n1\\n37\\n18\\n14\\nY\\nY\\n122\\nEgg White Fries\\n330\\n1\\n61\\n8\\n20\\nY\\n123\\nInside-Out Baked Potatoes\\n450\\n4\\n74\\n8\\n32\\nY\\n126\\nApple Cinnamon Protein Rice Cakes\\n580\\n7\\n85\\n10\\n45\\n127\\nChilled Rice Cakes Dipped in Chocolate \\nProtein and PB - Banana Based\\n275\\n3\\n38\\n3\\n22\\nY\\n127\\nChilled Rice Cakes Dipped in Chocolate \\nProtein and PB - Strawberry Based\\n255\\n3\\n34\\n3\\n22\\nY\\n127\\nChilled Rice Cakes Dipped in Chocolate \\nProtein and PB - Apple Based\\n265\\n3\\n36\\n3\\n22\\nY\\n128\\nChocolate PB Banana Rice Cakes\\n360\\n3\\n76\\n3\\n26\\nY\\n130\\nBlueberry Protein Cookies\\n1360\\n20\\n167\\n22\\n132\\nY\\n130\\nBlueberry Protein Cookies\\n230\\n3\\n28\\n4\\n22\\nY\\n131\\nChocolate Chip Brownie Cookie\\n800\\n34\\n73\\n22\\n70\\nY\\n131\\nChocolate Chip Brownie Cookie\\n80\\n3\\n7\\n2\\n7\\nY\\n132\\nChocolate Cookie Explosion - Batch\\n675\\n15\\n93\\n50\\n82\\nY\\n132\\nChocolate Cookie Explosion - Per Serving\\n170\\n4\\n23\\n12\\n20\\nY\\n133\\nCinnamon Raisin Squares - Per serving (1 \\ncookie)\\n155\\n2\\n16\\n1\\n21\\nY\\n133\\nCinnamon Raisin Squares - Batch (makes \\n12 cookies)\\n1870\\n20\\n188\\n11\\n250\\nY\\n134\\nDouble Chocolate Cookie Squares - Total\\n1215\\n28\\n135\\n30\\n111\\nY\\n134\\nDouble Chocolate Cookie Squares - Per \\nServing\\n150\\n4\\n17\\n4\\n14\\nY\\n135\\nPumpkin Protein Squares - Total\\n1500\\n29\\n180\\n39\\n128\\nY\\n135\\nPumpkin Protein Squares - Large Piece\\n188\\n4\\n22\\n5\\n16\\nY\\n135\\nPumpkin Protein Squares - Medium Piece\\n125\\n3\\n15\\n3\\n11\\nY\\n135\\nPumpkin Protein Squares - Small Piece\\n83\\n2\\n10\\n2\\n7\\nY\\n135\\nPumpkin Protein Squares - Per Bite Size \\nPiece\\n50\\n1\\n6\\n1\\n4\\nY\\n136\\nCottage Cookie Cakes - Batch\\n1400\\n27\\n162\\n31\\n126\\nY\\n136\\nCottage Cookie Cakes - Per Serving\\n70\\n1\\n8\\n1\\n6\\nY\\n'},\n",
       " {'page_number': 195,\n",
       "  'page_char_count': 2005,\n",
       "  'page_word_count': 217,\n",
       "  'page_sentence_count_raw': 2,\n",
       "  'page_token_count': 501.25,\n",
       "  'text': \"195\\nCopyright Coach Greg Inc. 2020\\nwww.gregdoucette.com\\nBack to Table of Contents\\nPage\\nRecipe\\nCalories \\nPer \\nServing\\nFat (g) \\nper \\nserving\\nCarbs \\n(g) per \\nserving\\nFiber \\n(g) per \\nserving\\nProtein (g) \\nper serving\\nVegan\\nVegetarian\\n137\\nPB Chocolate Chip Banana Protein \\nCookies - Entire Batch\\n900\\n20\\n141\\n64\\n76\\nY\\n137\\nPB Chocolate Chip Banana Protein \\nCookies - Per Large Cookie (4 pieces)\\n225\\n5\\n35\\n16\\n19\\nY\\n137\\nPB Chocolate Chip Banana Protein \\nCookies - Per Medium Cookie (6 pieces)\\n150\\n3\\n24\\n11\\n13\\nY\\n137\\nPB Chocolate Chip Banana Protein \\nCookies - Per Small Cookie (8 pieces)\\n115\\n3\\n18\\n8\\n10\\nY\\n138\\nPB Chocolate Chip Protein Cookies - \\nEntire Batch\\n875\\n20\\n134\\n63\\n75\\nY\\n138\\nPB Chocolate Chip Protein Cookies - Per \\nLarge Cookie (4 pieces)\\n220\\n5\\n34\\n16\\n19\\nY\\n138\\nPB Chocolate Chip Protein Cookies - Per \\nMedium Cookie (6 pieces)\\n145\\n3\\n22\\n11\\n13\\nY\\n138\\nPB Chocolate Chip Protein Cookies - Per \\nSmall Cookie (8 pieces)\\n110\\n3\\n17\\n8\\n9\\nY\\n140\\nBanana Fiber One Chocolate Protein Bar \\n- Entire batch\\n1800\\n23.7\\n364\\n80.2\\n181.2\\nY\\n140\\nBanana Fiber One Chocolate Protein Bar \\n- Large serving (8 pieces)\\n225\\n3\\n46\\n10\\n23\\nY\\n140\\nBanana Fiber One Chocolate Protein Bar \\n- Medium serving (12 pieces)\\n150\\n2\\n30\\n7\\n15\\nY\\n140\\nBanana Fiber One Chocolate Protein Bar \\n- Small serving (18 pieces)\\n100\\n1\\n20\\n4\\n10\\nY\\n140\\nBanana Fiber One Chocolate Protein Bar \\n- Bite size serving (30 pieces)\\n60\\n1\\n12\\n3\\n6\\nY\\n141\\nCaramel Protein Chocolate Bar - Entire \\nbatch\\n1630\\n26\\n268\\n47\\n200\\nY\\n141\\nCaramel Protein Chocolate Bar - Large \\nserving (8 pieces)\\n204\\n3\\n34\\n6\\n25\\nY\\n141\\nCaramel Protein Chocolate Bar - Medium \\nserving (12 pieces)\\n136\\n2\\n22\\n4\\n17\\nY\\n141\\nCaramel Protein Chocolate Bar - Small \\nserving (18 pieces)\\n91\\n1\\n15\\n3\\n11\\nY\\n141\\nCaramel Protein Chocolate Bar - Bite size \\nserving (30 pieces)\\n54\\n1\\n9\\n2\\n7\\nY\\n142\\nEva Dunbar's Coconut Power Protein Bar \\n- Entire Batch\\n2400\\n41\\n443\\n347\\n232\\nY\\n142\\nEva Dunbar's Coconut Power Protein Bar \\n- Large serving (8 pieces)\\n300\\n5\\n55\\n43\\n29\\nY\\n142\\nEva Dunbar's Coconut Power Protein Bar \\n- Medium serving (12 pieces)\\n200\\n3\\n37\\n29\\n19\\nY\\n\"},\n",
       " {'page_number': 196,\n",
       "  'page_char_count': 1926,\n",
       "  'page_word_count': 199,\n",
       "  'page_sentence_count_raw': 2,\n",
       "  'page_token_count': 481.5,\n",
       "  'text': \"196\\nCopyright Coach Greg Inc. 2020\\nwww.gregdoucette.com\\nBack to Table of Contents\\nPage\\nRecipe\\nCalories \\nPer \\nServing\\nFat (g) \\nper \\nserving\\nCarbs \\n(g) per \\nserving\\nFiber \\n(g) per \\nserving\\nProtein (g) \\nper serving\\nVegan\\nVegetarian\\n142\\nEva Dunbar's Coconut Power Protein Bar \\n- Small serving (18 pieces)\\n133\\n2\\n25\\n19\\n13\\nY\\n143\\nHoliday Chocolate Protein Bar (entire \\nbatch)\\n1840\\n38\\n298\\n50\\n203\\nY\\n143\\nHoliday Chocolate Protein Bar - Large \\nserving (8 pieces)\\n230\\n5\\n37\\n6\\n25\\nY\\n143\\nHoliday Chocolate Protein Bar - Medium \\nserving (12 pieces)\\n153\\n3\\n25\\n4\\n17\\nY\\n143\\nHoliday Chocolate Protein Bar - Small \\nserving (18 pieces)\\n102\\n2\\n17\\n3\\n11\\nY\\n143\\nHoliday Chocolate Protein Bar - Bite Size \\nserving (30 pieces)\\n61\\n1\\n10\\n2\\n7\\nY\\n144\\nProtein PB Chocolate Bar (entire batch)\\n2070\\n43\\n335\\n56\\n228\\nY\\n144\\nProtein PB Chocolate Bar - Large serving \\n(8 pieces)\\n259\\n5\\n42\\n7\\n29\\nY\\n144\\nProtein PB Chocolate Bar - Medium \\nserving (12 pieces)\\n173\\n4\\n28\\n5\\n19\\nY\\n144\\nProtein PB Chocolate Bar - Small serving \\n(18 pieces)\\n115\\n2\\n19\\n3\\n13\\nY\\n145\\nSkor Protein Bar - Entire Batch\\n1840\\n40\\n292\\n47\\n200\\nY\\n145\\nSkor Protein Bar - Large serving (8 pieces)\\n230\\n5\\n37\\n6\\n25\\nY\\n145\\nSkor Protein Bar - Medium serving (12 \\npieces)\\n153\\n3\\n24\\n4\\n17\\nY\\n145\\nSkor Protein Bar - Small serving (18 \\npieces)\\n102\\n2\\n16\\n3\\n11\\nY\\n145\\nSkor Protein Bar - Bite size serving (30 \\npieces)\\n61\\n1\\n10\\n2\\n7\\nY\\n146\\nSpecial K Banana Crunch Chocolate \\nProtein Bar - Entire batch\\n2100\\n27\\n390\\n62.2\\n207.2\\nY\\n146\\nSpecial K Banana Crunch Chocolate \\nProtein Bar - Large serving (8 pieces)\\n263\\n3\\n49\\n8\\n26\\nY\\n146\\nSpecial K Banana Crunch Chocolate \\nProtein Bar - Medium serving (12 pieces)\\n175\\n2\\n33\\n5\\n17\\nY\\n146\\nSpecial K Banana Crunch Chocolate \\nProtein Bar - Small serving (18 pieces)\\n117\\n2\\n22\\n3\\n12\\nY\\n146\\nSpecial K Banana Crunch Chocolate \\nProtein Bar - Bite size serving (30 pieces)\\n70\\n1\\n13\\n2\\n7\\nY\\n148\\nDouble Chocolate Protein Popcorn - \\nBatch\\n740\\n9\\n140\\n34\\n48\\nY\\nY\\n148\\nDouble Chocolate Protein Popcorn - Per \\nServing\\n370\\n5\\n70\\n17\\n24\\nY\\nY\\n\"},\n",
       " {'page_number': 197,\n",
       "  'page_char_count': 1690,\n",
       "  'page_word_count': 138,\n",
       "  'page_sentence_count_raw': 2,\n",
       "  'page_token_count': 422.5,\n",
       "  'text': '197\\nCopyright Coach Greg Inc. 2020\\nwww.gregdoucette.com\\nBack to Table of Contents\\nPage\\nRecipe\\nCalories \\nPer \\nServing\\nFat (g) \\nper \\nserving\\nCarbs \\n(g) per \\nserving\\nFiber \\n(g) per \\nserving\\nProtein (g) \\nper serving\\nVegan\\nVegetarian\\n149\\nExtra Anabolic Protein Popcorn - Batch\\n540\\n9\\n110\\n24\\n44\\nY\\n149\\nExtra Anabolic Protein Popcorn - Per \\nServing\\n270\\n4\\n55\\n12\\n22\\nY\\n150\\nProtein Popcorn - Batch\\n440\\n7\\n93\\n17\\n31\\nY\\n150\\nProtein Popcorn - Per Serving\\n220\\n4\\n46\\n9\\n16\\nY\\n152\\nApple Goop\\n450\\n3\\n108\\n22\\n6\\nY\\n152\\nMEGA Apple Goop\\n1760\\n14\\n426\\n82\\n25\\nY\\n154\\nBanana Chocolate Protein Donuts (Batch, \\n4 servings)\\n1350\\n10\\n168\\n11\\n147\\nY\\n154\\nBanana Chocolate Protein Donuts (Batch, \\n1 muffin)\\n325\\n3\\n42\\n3\\n37\\nY\\n155\\nLow-Calorie Brownie - Total\\n850\\n20\\n147\\n23\\n57\\nY\\n155\\nLow-Calorie Brownie - Per Serving\\n71\\n2\\n12\\n2\\n5\\nY\\n156\\nPeanut Butter Cupcakes - Total\\n1310\\n28\\n140\\n30\\n130\\nY\\n156\\nPeanut Butter Cupcakes - Per Cupcake\\n165\\n4\\n18\\n4\\n16\\nY\\n157\\nProtein Cinnamon Roll\\n335\\n2\\n46\\n1\\n35\\nY\\n159\\nAnabolic Avalanche, Regular\\n285\\n5\\n20\\n3\\n40\\nY\\n159\\nAnabolic Avalanche, Medium Size\\n430\\n7\\n35\\n10\\n58\\nY\\n159\\nAnabolic Avalanche, Large Size\\n620\\n9\\n51\\n14\\n80\\nY\\n160\\nChocolate Protein Ice Cream Pudding \\n-  Small Size\\n265\\n5\\n20\\n3\\n39\\nY\\n160\\nChocolate Protein Ice Cream Pudding - \\nMedium Size\\n400\\n8\\n30\\n5\\n58\\nY\\n160\\nChocolate Protein Ice Cream Pudding - \\nLarge Size\\n530\\n10\\n40\\n7\\n77\\nY\\n161\\nCottage Cheese Chocolate PB Delight - \\nTotal\\n820\\n15\\n80\\n15\\n89\\nY\\n161\\nCottage Cheese Chocolate PB Delight - \\nPer Serving\\n100\\n2\\n10\\n2\\n11\\nY\\n162\\nDairy Dream Protein Dessert with Cottage \\nCheese - Small\\n195\\n0\\n18\\n3\\n25\\nY\\n162\\nDairy Dream Protein Dessert with Cottage \\nCheese - Medium\\n250\\n0\\n27\\n4\\n31\\nY\\n163\\nFat-Free Chocolate Jell-O Protein \\nPudding\\n210\\n2\\n25\\n2\\n23\\nY\\n164\\nProtein Mousse\\n390\\n3\\n27\\n3\\n65\\nY\\nY\\n'},\n",
       " {'page_number': 198,\n",
       "  'page_char_count': 1722,\n",
       "  'page_word_count': 159,\n",
       "  'page_sentence_count_raw': 2,\n",
       "  'page_token_count': 430.5,\n",
       "  'text': '198\\nCopyright Coach Greg Inc. 2020\\nwww.gregdoucette.com\\nBack to Table of Contents\\nPage\\nRecipe\\nCalories \\nPer \\nServing\\nFat (g) \\nper \\nserving\\nCarbs \\n(g) per \\nserving\\nFiber \\n(g) per \\nserving\\nProtein (g) \\nper serving\\nVegan\\nVegetarian\\n165\\nCottage Cheese Protein Pudding - \\nChocolate\\n99\\n1\\n14\\n2\\n8\\nY\\n167\\nChocolate Protein Lava Cake - Batch\\n1000\\n9\\n43\\n20\\n167\\nY\\n167\\nChocolate Protein Lava Cake - Medium \\nServing\\n250\\n2\\n11\\n5\\n42\\nY\\n167\\nChocolate Protein Lava Cake - Small \\nServing\\n167\\n1\\n7\\n3\\n28\\nY\\n168\\nChocolate Protein Mug Cake\\n180\\n3\\n7\\n3\\n30\\nY\\n168\\nChocolate Pumpkin Peanut Butter Cake - \\nBatch\\n920\\n12\\n93\\n24\\n102\\nY\\n168\\nChocolate Pumpkin Peanut Butter Cake - \\nPer Serving\\n230\\n3\\n23\\n6\\n26\\nY\\n169\\nVegan Chocolate Mug Cake\\n210\\n2\\n10\\n4\\n37\\nY\\nY\\n169\\nChocolate Protein Mug Cake\\n180\\n3\\n7\\n3\\n30\\nY\\n170\\nVegan Chocolate Mug Cake\\n210\\n2\\n10\\n4\\n37\\nY\\nY\\n172\\nBlueberry Protein Shake - Small\\n185\\n3\\n14\\n4\\n26\\nY\\n172\\nBlueberry Protein Shake - Medium\\n305\\n5\\n28\\n7\\n39\\nY\\n173\\nChocolate Blueberry PB Protein Ice \\nCream - Medium\\n355\\n7\\n33\\n9\\n44\\nY\\n173\\nChocolate Blueberry PB Protein Ice \\nCream - Large Size\\n575\\n10\\n51\\n11\\n75\\nY\\n174\\nChocolate Fudge Brownie Protein Ice \\nCream - Small\\n460\\n13\\n66\\n33\\n58\\nY\\n174\\nChocolate Fudge Brownie Protein Ice \\nCream - Large\\n230\\n6\\n33\\n16\\n29\\nY\\n175\\nChocolate PB Protein Ice Cream - Small\\n190\\n5\\n10\\n4\\n28\\nY\\nY\\n175\\nChocolate PB Protein Ice Cream - \\nMedium\\n280\\n8\\n16\\n5\\n45\\nY\\nY\\n175\\nChocolate PB Protein Ice Cream - Large\\n380\\n11\\n21\\n7\\n61\\nY\\nY\\n176\\nChunky Monkey Protein Ice Cream\\n515\\n18\\n71\\n20\\n28\\nY\\n177\\nCoffee Toffee Bar Crunch Protein Ice \\nCream - Small\\n290\\n14\\n20\\n3\\n27\\nY\\n177\\nCoffee Toffee Bar Crunch Protein Ice \\nCream - Large\\n580\\n27\\n40\\n7\\n53\\nY\\n178\\nNetflix & Chilled Protein Ice Cream - \\nLarge\\n480\\n10\\n34\\n8\\n60\\nY\\n178\\nNetflix & Chilled Protein Ice Cream - \\nSmall\\n240\\n5\\n17\\n3\\n30\\nY\\n'},\n",
       " {'page_number': 199,\n",
       "  'page_char_count': 1147,\n",
       "  'page_word_count': 97,\n",
       "  'page_sentence_count_raw': 2,\n",
       "  'page_token_count': 286.75,\n",
       "  'text': '199\\nCopyright Coach Greg Inc. 2020\\nwww.gregdoucette.com\\nBack to Table of Contents\\nPage\\nRecipe\\nCalories \\nPer \\nServing\\nFat (g) \\nper \\nserving\\nCarbs \\n(g) per \\nserving\\nFiber \\n(g) per \\nserving\\nProtein (g) \\nper serving\\nVegan\\nVegetarian\\n180\\nPumpkin Cheesecake Protein Ice Cream\\n260\\n4\\n29\\n3\\n27\\nY\\n181\\nStrawberry Protein Ice Cream - Small Size\\n230\\n5\\n18\\n7\\n27\\nY\\n181\\nStrawberry Protein Ice Cream - Medium \\nSize\\n350\\n6\\n28\\n9\\n47\\nY\\n181\\nStrawberry Protein Ice Cream - Large Size\\n460\\n8\\n46\\n12\\n71\\nY\\n182\\nVanilla PB Protein Ice Cream - Medium\\n345\\n6\\n24\\n7\\n47\\nY\\n182\\nVanilla PB Protein Ice Cream - Large\\n430\\n6\\n39\\n6\\n54\\nY\\n183\\nChocolate Strawberry Almond \\nProteinsicles - Batch\\n810\\n12\\n72\\n16\\n100\\nY\\n183\\nChocolate Strawberry Almond \\nProteinsicles - Per Serving\\n196\\n3\\n18\\n4\\n25\\nY\\n184\\nChocolate Strawberry PB Proteinsicles - \\nBatch\\n1215\\n20\\n84\\n32\\n180\\nY\\n184\\nChocolate Strawberry PB Proteinsicles - \\nPer Serving\\n303\\n5\\n21\\n8\\n45\\nY\\n185\\nStrawberry Cheesecake Proteinsicles - \\nBatch\\n1160\\n16\\n92\\n28\\n160\\nY\\n185\\nStrawberry Cheesecake Proteinsicles - Per \\nServing\\n289\\n4\\n23\\n7\\n40\\nY\\n186\\nVanilla Berry Proteinsicles - Batch\\n1020\\n12\\n84\\n24\\n152\\nY\\n186\\nVanilla Berry Proteinsicles - Per Serving\\n255\\n3\\n21\\n6\\n38\\nY\\n'}]"
      ]
     },
     "execution_count": 22,
     "metadata": {},
     "output_type": "execute_result"
    }
   ],
   "source": [
    "master_recipe_nutrition_table = table_of_contents[:-4]\n",
    "master_recipe_nutrition_table"
   ]
  },
  {
   "cell_type": "markdown",
   "metadata": {},
   "source": [
    "We are going to do this page by page."
   ]
  },
  {
   "cell_type": "code",
   "execution_count": 201,
   "metadata": {},
   "outputs": [],
   "source": [
    "#definition of the method to retreive the dataframe\n",
    "def get_dataframe_from_table_page(text):\n",
    "\n",
    "    #first off we remove the lines until we find the first occurence of \"Vegetarian\" and we drop it along with everything that came before him.\n",
    "    text = text[text.find(\"Vegetarian\"):].replace(\"Vegetarian\",\"\")\n",
    "\n",
    "    #when we see the pattern of any \\n next to \"-\" we remove the \"\\n\"\n",
    "    text = text.replace(\"\\n-\",\"-\").replace(\"\\n -\",\" -\").replace(\"-\\n\",\"- \").replace(\"\\n-\\n\",\"-\").replace(\"- \\n\",\"- \")\n",
    "\n",
    "    # if we see \\n next to serving or servings we remove it\n",
    "    text = re.sub(r'\\n(?=\\b[sS]erving[s]?\\b)', '', text)\n",
    "\n",
    "    # #we remove the first \\n\n",
    "    text = text.replace(\"\\n\",\" \",1)\n",
    "\n",
    "    #we remove \"\\nY\\n\"\n",
    "    text = text.replace(\"\\nY\",\"\")\n",
    "\n",
    "    array=text.split(\"\\n\")\n",
    "    #we remove unwanted spaces\n",
    "    array = [i.strip() for i in array]\n",
    "    #we remove empty strings\n",
    "    array = list(filter(None, array))\n",
    "\n",
    "    #on parcours le tableau, et nous calculons la longueur de chaque element. Si la le voisin i+1 est plus long que 3 c'est que c'est un text qui est coupé en deux, on le merge avec le voisin i. SAUF si i a une taille infieur ou égale à 3, car dans ce cas i est un nombre.\n",
    "    for i in range(len(array) - 1):\n",
    "        if len(array[i+1]) > 3 and len(array[i]) > 3 and not array[i+1].isnumeric() and not is_number_without_period(array[i]):\n",
    "            array[i] = array[i] + \" \" + array[i+1]\n",
    "            array[i+1] = \"\"\n",
    "\n",
    "    # we remove the empty strings\n",
    "    array = list(filter(None, array))\n",
    "    #we now that the first 7 elements are 1 recipe, so we can append by chunks of 7. The first element is the page, the second the recipe, the third the calories, the fourth the fat, the fifth the carbs, the sixth the fiber, the seventh the protein.\n",
    "\n",
    "    pages=[]\n",
    "    recipes=[]\n",
    "    calories=[]\n",
    "    fat=[]\n",
    "    carbs=[]\n",
    "    fiber=[]\n",
    "    protein=[]\n",
    "\n",
    "    for i in range(0,len(array),7):\n",
    "        pages.append(array[i])\n",
    "        recipes.append(array[i+1])\n",
    "        calories.append(array[i+2])\n",
    "        fat.append(array[i+3])\n",
    "        carbs.append(array[i+4])\n",
    "        fiber.append(array[i+5])\n",
    "        protein.append(array[i+6])\n",
    "        \n",
    "\n",
    "    #we create a dictionnary to store the data\n",
    "    nutrition_data = {\n",
    "        \"Page\": pages,\n",
    "        \"Recipe\": recipes,\n",
    "        \"Calories Per Serving\": calories,\n",
    "        \"Fat (g) per serving\": fat,\n",
    "        \"Carbs (g) per serving\": carbs,\n",
    "        \"Fiber (g) per serving\": fiber,\n",
    "        \"Protein (g) per serving\": protein,\n",
    "    }\n",
    "\n",
    "    #we create a dataframe\n",
    "    page_dataframe = pd.DataFrame(nutrition_data)\n",
    "\n",
    "    return page_dataframe\n",
    "\n",
    "\n",
    "# to remove . in the page number\n",
    "def is_number_without_period(s):\n",
    "    return s.replace(\".\", \"\").isnumeric()"
   ]
  },
  {
   "cell_type": "markdown",
   "metadata": {},
   "source": [
    "### Processing Pages of nutritional table"
   ]
  },
  {
   "cell_type": "code",
   "execution_count": 204,
   "metadata": {},
   "outputs": [
    {
     "name": "stdout",
     "output_type": "stream",
     "text": [
      "Processing page 0...\n",
      "Processing page 1...\n",
      "Processing page 2...\n",
      "Processing page 3...\n",
      "Processing page 4...\n",
      "Processing page 5...\n",
      "Processing page 6...\n",
      "Processing page 7...\n",
      "Processing page 8...\n",
      "Processing page 9...\n",
      "Processing page 10...\n",
      "Processing page 11...\n",
      "Processing page 12...\n"
     ]
    }
   ],
   "source": [
    "for index, page in enumerate(master_recipe_nutrition_table):\n",
    "    print(f\"Processing page {index}...\")\n",
    "    df = get_dataframe_from_table_page(page['text'])\n",
    "    df.to_csv(f'nutrition_table_{index}.csv', index=False)"
   ]
  },
  {
   "cell_type": "code",
   "execution_count": 207,
   "metadata": {},
   "outputs": [],
   "source": [
    "#load all the nutrition_table csv files and fuse them into one\n",
    "import os\n",
    "import glob\n",
    "\n",
    "#we load the pages one by one\n",
    "page_1_dataframe = pd.read_csv('nutrition_table_0.csv')\n",
    "page_2_dataframe = pd.read_csv('nutrition_table_1.csv')\n",
    "page_3_dataframe = pd.read_csv('nutrition_table_2.csv')\n",
    "page_4_dataframe = pd.read_csv('nutrition_table_3.csv')\n",
    "page_5_dataframe = pd.read_csv('nutrition_table_4.csv')\n",
    "page_6_dataframe = pd.read_csv('nutrition_table_5.csv')\n",
    "page_7_dataframe = pd.read_csv('nutrition_table_6.csv')\n",
    "page_8_dataframe = pd.read_csv('nutrition_table_7.csv')\n",
    "page_9_dataframe = pd.read_csv('nutrition_table_8.csv')\n",
    "page_10_dataframe = pd.read_csv('nutrition_table_9.csv')\n",
    "page_11_dataframe = pd.read_csv('nutrition_table_10.csv')\n",
    "page_12_dataframe = pd.read_csv('nutrition_table_11.csv')\n",
    "page_13_dataframe = pd.read_csv('nutrition_table_12.csv')\n",
    "\n",
    "#we concatenate all the dataframes\n",
    "master_recipe_nutrition_table = pd.concat([page_1_dataframe, page_2_dataframe, page_3_dataframe, page_4_dataframe, page_5_dataframe, page_6_dataframe, page_7_dataframe, page_8_dataframe, page_9_dataframe, page_10_dataframe, page_11_dataframe, page_12_dataframe, page_13_dataframe])"
   ]
  },
  {
   "cell_type": "code",
   "execution_count": 209,
   "metadata": {},
   "outputs": [
    {
     "data": {
      "text/html": [
       "<div>\n",
       "<style scoped>\n",
       "    .dataframe tbody tr th:only-of-type {\n",
       "        vertical-align: middle;\n",
       "    }\n",
       "\n",
       "    .dataframe tbody tr th {\n",
       "        vertical-align: top;\n",
       "    }\n",
       "\n",
       "    .dataframe thead th {\n",
       "        text-align: right;\n",
       "    }\n",
       "</style>\n",
       "<table border=\"1\" class=\"dataframe\">\n",
       "  <thead>\n",
       "    <tr style=\"text-align: right;\">\n",
       "      <th></th>\n",
       "      <th>Page</th>\n",
       "      <th>Recipe</th>\n",
       "      <th>Calories Per Serving</th>\n",
       "      <th>Fat (g) per serving</th>\n",
       "      <th>Carbs (g) per serving</th>\n",
       "      <th>Fiber (g) per serving</th>\n",
       "      <th>Protein (g) per serving</th>\n",
       "    </tr>\n",
       "  </thead>\n",
       "  <tbody>\n",
       "    <tr>\n",
       "      <th>0</th>\n",
       "      <td>17</td>\n",
       "      <td>Anabolic Apple Pie Breakfast Bake - Entire Batch</td>\n",
       "      <td>3350</td>\n",
       "      <td>17</td>\n",
       "      <td>464</td>\n",
       "      <td>46</td>\n",
       "      <td>265</td>\n",
       "    </tr>\n",
       "    <tr>\n",
       "      <th>1</th>\n",
       "      <td>17</td>\n",
       "      <td>Anabolic Apple Pie Breakfast Bake - Large Serving</td>\n",
       "      <td>560</td>\n",
       "      <td>3</td>\n",
       "      <td>77</td>\n",
       "      <td>8</td>\n",
       "      <td>44</td>\n",
       "    </tr>\n",
       "    <tr>\n",
       "      <th>2</th>\n",
       "      <td>17</td>\n",
       "      <td>Anabolic Apple Pie Breakfast Bake - Small Serving</td>\n",
       "      <td>280</td>\n",
       "      <td>1</td>\n",
       "      <td>39</td>\n",
       "      <td>4</td>\n",
       "      <td>22</td>\n",
       "    </tr>\n",
       "    <tr>\n",
       "      <th>3</th>\n",
       "      <td>18</td>\n",
       "      <td>Anabolic French Toast - Per Serving</td>\n",
       "      <td>270</td>\n",
       "      <td>1</td>\n",
       "      <td>30</td>\n",
       "      <td>6</td>\n",
       "      <td>28</td>\n",
       "    </tr>\n",
       "    <tr>\n",
       "      <th>4</th>\n",
       "      <td>18</td>\n",
       "      <td>Anabolic French Toast - Large</td>\n",
       "      <td>400</td>\n",
       "      <td>2</td>\n",
       "      <td>48</td>\n",
       "      <td>9</td>\n",
       "      <td>45</td>\n",
       "    </tr>\n",
       "    <tr>\n",
       "      <th>...</th>\n",
       "      <td>...</td>\n",
       "      <td>...</td>\n",
       "      <td>...</td>\n",
       "      <td>...</td>\n",
       "      <td>...</td>\n",
       "      <td>...</td>\n",
       "      <td>...</td>\n",
       "    </tr>\n",
       "    <tr>\n",
       "      <th>9</th>\n",
       "      <td>184</td>\n",
       "      <td>Chocolate Strawberry PB Proteinsicles - Per Se...</td>\n",
       "      <td>303</td>\n",
       "      <td>5</td>\n",
       "      <td>21</td>\n",
       "      <td>8</td>\n",
       "      <td>45</td>\n",
       "    </tr>\n",
       "    <tr>\n",
       "      <th>10</th>\n",
       "      <td>185</td>\n",
       "      <td>Strawberry Cheesecake Proteinsicles - Batch</td>\n",
       "      <td>1160</td>\n",
       "      <td>16</td>\n",
       "      <td>92</td>\n",
       "      <td>28</td>\n",
       "      <td>160</td>\n",
       "    </tr>\n",
       "    <tr>\n",
       "      <th>11</th>\n",
       "      <td>185</td>\n",
       "      <td>Strawberry Cheesecake Proteinsicles - Per Serving</td>\n",
       "      <td>289</td>\n",
       "      <td>4</td>\n",
       "      <td>23</td>\n",
       "      <td>7</td>\n",
       "      <td>40</td>\n",
       "    </tr>\n",
       "    <tr>\n",
       "      <th>12</th>\n",
       "      <td>186</td>\n",
       "      <td>Vanilla Berry Proteinsicles - Batch</td>\n",
       "      <td>1020</td>\n",
       "      <td>12</td>\n",
       "      <td>84</td>\n",
       "      <td>24</td>\n",
       "      <td>152</td>\n",
       "    </tr>\n",
       "    <tr>\n",
       "      <th>13</th>\n",
       "      <td>186</td>\n",
       "      <td>Vanilla Berry Proteinsicles - Per Serving</td>\n",
       "      <td>255</td>\n",
       "      <td>3</td>\n",
       "      <td>21</td>\n",
       "      <td>6</td>\n",
       "      <td>38</td>\n",
       "    </tr>\n",
       "  </tbody>\n",
       "</table>\n",
       "<p>303 rows × 7 columns</p>\n",
       "</div>"
      ],
      "text/plain": [
       "    Page                                             Recipe  \\\n",
       "0     17   Anabolic Apple Pie Breakfast Bake - Entire Batch   \n",
       "1     17  Anabolic Apple Pie Breakfast Bake - Large Serving   \n",
       "2     17  Anabolic Apple Pie Breakfast Bake - Small Serving   \n",
       "3     18                Anabolic French Toast - Per Serving   \n",
       "4     18                      Anabolic French Toast - Large   \n",
       "..   ...                                                ...   \n",
       "9    184  Chocolate Strawberry PB Proteinsicles - Per Se...   \n",
       "10   185        Strawberry Cheesecake Proteinsicles - Batch   \n",
       "11   185  Strawberry Cheesecake Proteinsicles - Per Serving   \n",
       "12   186                Vanilla Berry Proteinsicles - Batch   \n",
       "13   186          Vanilla Berry Proteinsicles - Per Serving   \n",
       "\n",
       "   Calories Per Serving Fat (g) per serving  Carbs (g) per serving  \\\n",
       "0                  3350                  17                    464   \n",
       "1                   560                   3                     77   \n",
       "2                   280                   1                     39   \n",
       "3                   270                   1                     30   \n",
       "4                   400                   2                     48   \n",
       "..                  ...                 ...                    ...   \n",
       "9                   303                   5                     21   \n",
       "10                 1160                  16                     92   \n",
       "11                  289                   4                     23   \n",
       "12                 1020                  12                     84   \n",
       "13                  255                   3                     21   \n",
       "\n",
       "   Fiber (g) per serving Protein (g) per serving  \n",
       "0                     46                     265  \n",
       "1                      8                      44  \n",
       "2                      4                      22  \n",
       "3                      6                      28  \n",
       "4                      9                      45  \n",
       "..                   ...                     ...  \n",
       "9                      8                      45  \n",
       "10                    28                     160  \n",
       "11                     7                      40  \n",
       "12                    24                     152  \n",
       "13                     6                      38  \n",
       "\n",
       "[303 rows x 7 columns]"
      ]
     },
     "execution_count": 209,
     "metadata": {},
     "output_type": "execute_result"
    }
   ],
   "source": [
    "# we order it by the page number\n",
    "master_recipe_nutrition_table = master_recipe_nutrition_table.sort_values(by='Page')\n",
    "master_recipe_nutrition_table"
   ]
  },
  {
   "cell_type": "code",
   "execution_count": 210,
   "metadata": {},
   "outputs": [],
   "source": [
    "#we save the dataframe\n",
    "master_recipe_nutrition_table.to_csv('master_recipe_nutrition_table.csv', index=False)"
   ]
  },
  {
   "cell_type": "markdown",
   "metadata": {},
   "source": [
    "# the vegetables and Fruit Calorie per 100g database (OPTIONAL)"
   ]
  },
  {
   "cell_type": "code",
   "execution_count": null,
   "metadata": {},
   "outputs": [],
   "source": []
  }
 ],
 "metadata": {
  "kernelspec": {
   "display_name": "venv",
   "language": "python",
   "name": "python3"
  },
  "language_info": {
   "codemirror_mode": {
    "name": "ipython",
    "version": 3
   },
   "file_extension": ".py",
   "mimetype": "text/x-python",
   "name": "python",
   "nbconvert_exporter": "python",
   "pygments_lexer": "ipython3",
   "version": "3.11.8"
  }
 },
 "nbformat": 4,
 "nbformat_minor": 2
}
